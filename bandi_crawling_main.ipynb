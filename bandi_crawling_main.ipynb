{
 "cells": [
  {
   "cell_type": "markdown",
   "id": "6381a237",
   "metadata": {},
   "source": [
    "# 패키지 선언"
   ]
  },
  {
   "cell_type": "code",
   "execution_count": 1,
   "id": "13ee398e",
   "metadata": {
    "ExecuteTime": {
     "end_time": "2021-06-17T00:09:54.578926Z",
     "start_time": "2021-06-17T00:09:53.110658Z"
    }
   },
   "outputs": [
    {
     "name": "stdout",
     "output_type": "stream",
     "text": [
      "Mozilla/5.0 (Windows; U; Windows NT 6.1; tr-TR) AppleWebKit/533.20.25 (KHTML, like Gecko) Version/5.0.4 Safari/533.20.27\n"
     ]
    }
   ],
   "source": [
    "# 패키지 불러오기\n",
    "\n",
    "import requests\n",
    "import bs4\n",
    "from bs4 import BeautifulSoup\n",
    "import os\n",
    "import random\n",
    "import hashlib\n",
    "import urllib.request\n",
    "import urllib\n",
    "from urllib.parse import urlparse, urlencode, parse_qs\n",
    "import pandas as pd\n",
    "import csv\n",
    "import re\n",
    "\n",
    "from datetime import datetime, timedelta\n",
    "from urllib import parse\n",
    "import time\n",
    "import requests\n",
    "import numpy as np\n",
    "import json\n",
    "from random import *\n",
    "from tqdm.notebook import tqdm\n",
    "\n",
    "from selenium import webdriver\n",
    "from selenium.webdriver.firefox.options import Options\n",
    "from fake_useragent import UserAgent\n",
    "\n",
    "from selenium.webdriver import ActionChains\n",
    "from selenium.webdriver.common.keys import Keys\n",
    "from selenium.webdriver.common.by import By\n",
    "from selenium.webdriver.support import expected_conditions as EC\n",
    "from selenium.webdriver.support.ui import WebDriverWait\n",
    "from selenium.common.exceptions import NoSuchElementException\n",
    "from selenium.common.exceptions import StaleElementReferenceException\n",
    "from selenium.common.exceptions import TimeoutException\n",
    "from selenium.common.exceptions import UnexpectedAlertPresentException\n",
    "\n",
    "ua = UserAgent()\n",
    "userAgent = ua.random\n",
    "print(userAgent)\n",
    "\n",
    "options = Options()\n",
    "options.add_argument(f\"user-agent={userAgent}\")\n",
    "options.add_argument('--headless')\n",
    "options.add_argument('--no-sandbox')\n",
    "options.add_argument('--disable-dev-shm-usage')\n",
    "options.add_argument('--ignore-certificate-errors')\n",
    "options.add_argument('--incognito')\n",
    "options.add_argument('--proxy-server=socks5://127.0.0.1:9050')\n",
    "\n",
    "executable_path = '/home/book_crawling/geckodriver' # chrome driver의 경로\n",
    "driver = webdriver.Firefox(executable_path=executable_path, options=options)"
   ]
  },
  {
   "cell_type": "markdown",
   "id": "782762fd",
   "metadata": {},
   "source": [
    "# 반디앤루니스 크롤링 함수"
   ]
  },
  {
   "cell_type": "code",
   "execution_count": 2,
   "id": "7ed8ca71",
   "metadata": {
    "ExecuteTime": {
     "end_time": "2021-06-17T00:09:55.480752Z",
     "start_time": "2021-06-17T00:09:55.442555Z"
    }
   },
   "outputs": [],
   "source": [
    "def parse_bandi(isbn):\n",
    "    \n",
    "    book = {'isbn' : isbn,\n",
    "            '제목' : '없음',\n",
    "            '저자' : '없음',\n",
    "            '역자' : '없음',\n",
    "            '출판일' : '없음',\n",
    "            '출판사' : '없음',\n",
    "            '별점' : '없음',\n",
    "            '리뷰' : '없음',\n",
    "            '카테고리' : '없음',\n",
    "            '책소개' : '없음',\n",
    "            '저자소개' : '없음',\n",
    "            '추천사' : '없음',\n",
    "            '목차' : '없음',\n",
    "            '책속으로' : '없음',\n",
    "            '출판사리뷰' : '없음'\n",
    "           }\n",
    "    \n",
    "    front_page = 'http://www.bandinlunis.com/search/search.do?q='\n",
    "    driver.get(front_page + isbn)\n",
    "    time.sleep(0.5)\n",
    "    \n",
    "    try:\n",
    "        book_contents = driver.find_element_by_class_name('book_contents')\n",
    "        title_link = book_contents.find_element_by_tag_name('strong')\n",
    "        title_link.click()\n",
    "        link_more = driver.find_elements_by_class_name('link_more')\n",
    "        for l in link_more:\n",
    "            l.click()\n",
    "        soup = BeautifulSoup(driver.page_source, 'html.parser')\n",
    "    except:\n",
    "        return book\n",
    "\n",
    "    # 제목\n",
    "    try:\n",
    "        title_el = soup.select_one('.group_title')\n",
    "        main = title_el.select_one('.txt_main')\n",
    "        try:\n",
    "            sub = title_el.select_one('.txt_sub')\n",
    "            title = main.text.strip() + ' - ' + sub.text.strip()\n",
    "        except:\n",
    "            title = main.text.strip()\n",
    "    except:\n",
    "        title = '없음'\n",
    "    book['제목'] = title\n",
    "    \n",
    "    # 저자, 역자, 출판일 - soup\n",
    "    try:\n",
    "        group_inside = soup.select_one('.group_inside')\n",
    "        lis = group_inside.select('li')\n",
    "\n",
    "        author = '없음'\n",
    "        translator = '없음'\n",
    "        publisher = '없음'\n",
    "        pub_date = pub_date = lis[-1].text\n",
    "        for li in lis:\n",
    "            if '저' in li.text:\n",
    "                author = li.text.replace(' 저', '')\n",
    "            if '역' in li.text:\n",
    "                translator = li.text.replace(' 역', '')\n",
    "            if 'Publish' in li.a['href']:\n",
    "                publisher = li.text\n",
    "        pub_date = lis[-1].text\n",
    "    except:\n",
    "        pass\n",
    "    book['저자'] = author\n",
    "    book['역자'] = translator\n",
    "    book['출판일'] = pub_date\n",
    "    book['출판사'] = publisher\n",
    "            \n",
    "    # 별점\n",
    "    try:\n",
    "        rating_el = soup.select_one('.medium_ratings_num')\n",
    "        rating = re.search('\\d.{1,4}\\\\n', rating_el.text).group().replace('\\n', '')\n",
    "    except:\n",
    "        rating = '없음'\n",
    "    book['별점'] = rating\n",
    "    \n",
    "    # 리뷰\n",
    "    try: \n",
    "        review_el = rating_el.select_one('.ml10')\n",
    "        review_num = review_el.strong.text + ' (반디앤루니스)'\n",
    "    except:\n",
    "        review_num = '없음'\n",
    "    book['리뷰'] = review_num\n",
    "    \n",
    "    # 카테고리\n",
    "    try:\n",
    "        categories = soup.find_all('li', class_='mb10')\n",
    "        category = [x.text.replace('\\n', '').replace('\\t', '') for x in categories]\n",
    "    except:\n",
    "        category = []\n",
    "    book['카테고리'] = category\n",
    "    \n",
    "    # 책소개, 추천사\n",
    "    try:\n",
    "        shot_desc = soup.select_one('#cutBookDesc')\n",
    "        desc = shot_desc.text.replace('\\t', '')\n",
    "        book_intro = desc.split('추천글')[0]\n",
    "        recommend = desc.split('추천글')[1]\n",
    "    except:\n",
    "        book_intro = '없음'\n",
    "        recommend = '없음'\n",
    "    book['책소개'] = book_intro\n",
    "    book['추천사'] = recommend\n",
    "    \n",
    "    # 저자소개\n",
    "    try:\n",
    "        author_name = soup.select_one('.author_name').text.strip()\n",
    "        profile = soup.select_one('.txt_profile_marge').text.strip()\n",
    "        author_intro = author_name + '\\n' + profile\n",
    "    except:\n",
    "        author_intro = '없음'\n",
    "    book['저자소개'] = author_intro\n",
    "    \n",
    "    # 목차\n",
    "    try:\n",
    "        table_title = soup.find('h3', class_='txt_title', string=re.compile('목차'))\n",
    "        table_el = str(table_title.parent.next_sibling.next_sibling)\n",
    "        table = re.sub('\\<[^>]*\\>', '\\n', table_el).replace('\\t', '').replace('닫기', '').strip()\n",
    "    except:\n",
    "        table = '없음'\n",
    "    book['목차'] = table\n",
    "    \n",
    "    return book"
   ]
  },
  {
   "cell_type": "markdown",
   "id": "7d725a36",
   "metadata": {},
   "source": [
    "# csv파일 불러오기 & 크롤링"
   ]
  },
  {
   "cell_type": "code",
   "execution_count": 3,
   "id": "5965b7a7",
   "metadata": {
    "ExecuteTime": {
     "end_time": "2021-06-17T00:09:59.600236Z",
     "start_time": "2021-06-17T00:09:58.095259Z"
    }
   },
   "outputs": [
    {
     "name": "stderr",
     "output_type": "stream",
     "text": [
      "/usr/local/lib/python3.7/dist-packages/numpy/lib/arraysetops.py:580: FutureWarning: elementwise comparison failed; returning scalar instead, but in the future will perform elementwise comparison\n",
      "  mask |= (ar1 == a)\n"
     ]
    },
    {
     "data": {
      "text/plain": [
       "2872189"
      ]
     },
     "execution_count": 3,
     "metadata": {},
     "output_type": "execute_result"
    }
   ],
   "source": [
    "book_specs = pd.read_csv('./book_spec_korean_isbns.csv', low_memory=False, index_col=0)\n",
    "isbns = book_specs['0'].tolist()\n",
    "len(isbns)"
   ]
  },
  {
   "cell_type": "code",
   "execution_count": 4,
   "id": "22db9e4d",
   "metadata": {
    "ExecuteTime": {
     "end_time": "2021-06-15T00:17:21.608157Z",
     "start_time": "2021-06-15T00:17:10.282572Z"
    },
    "scrolled": true
   },
   "outputs": [
    {
     "data": {
      "text/plain": [
       "{'isbn': '9788947547079',\n",
       " '제목': '싱크 어게인 - 모르는 것을 아는 힘',\n",
       " '저자': '애덤 그랜트',\n",
       " '역자': '이경식 ',\n",
       " '출판일': '2021년 03월 30일',\n",
       " '출판사': '한국경제신문',\n",
       " '별점': '9.8',\n",
       " '리뷰': '5 (반디앤루니스)',\n",
       " '카테고리': ['경제/경영  > 경영  > 경영일반  > 경영일반', '자기계발  > 비즈니스능력계발  > 비즈니스소양'],\n",
       " '책소개': '\\n출판사 리뷰\\n세계적인 베스트셀러 《오리지널스》 애덤 그랜트의 5년 만의 신작“다시 생각하기가 지금보다 더 필요한 때는 없었다!”★★★출간 즉시 아마존 베스트셀러 / 빌 앤 멀린다 게이츠 강력 추천 / 전 세계 32개국 출간★★★불확실성으로 가득한 세상 ‘모르는 것을 아는 능력’도 지능의 일부이다 확증 편향, 소망 편향 등 스스로를 무너뜨리는 ‘확신의 함정’에서 벗어나는 법와튼스쿨 최연소 종신교수이자 도발적 경영 사상가인 애덤 그랜트가 ‘다시 생각하기’라는 매주 중요한 사고법에 대해 고찰한다. 즉, 타인의 의견을 묻고, 마음을 여는 법을 배우는 것이다. 이는 일과 삶에 있어 탁월하고 지혜로운 위치에 설 수 있게 한다. 지능은 보통 생각하고 배우는 능력으로 보이지만, 급변하는 세계에서는 더 중요한 또 다른 세트의 인지 능력이 있다. 그것은 “다시 생각하고 배운 것을 고의적으로 잊는” 능력이다.우리는 일상생활에서, 너무 많은 사람들이 ‘의심의 불편함’보다 ‘확신의 편안함’을 선호한다. 스스로를 힘들게 하는 생각 대신 기분 좋게 만드는 의견을 듣게 되는 것이다. ‘의견 불일치’를 ‘배울 수 있는 기회’라기보다는 ‘자아에 대한 위협’으로 본다. 그래서 우리는 우리의 사고 과정에 도전하는 사람들에게 끌려야 할 때, 우리의 결론에 동의하는 사람들로 둘러싸여 있게 된다.애덤 그랜트는 <뉴욕타임스> 1위의 베스트셀러 《오리지널스》와 《기브앤테이크》의 작가로서, 그는 자신이 옳다고 여김에도, 자신이 틀렸다는 듯이 경청하는 것을 인생의 지도원리 중 하나로 삼고 있다. 대담한 아이디어와 철저한 증거를 가지고, 그는 우리가 어떻게 틀렸다는 것을 기쁨으로 받아들일 수 있는지, 가면증후군의 놀라운 장점을 활용할 수 있는지, 격양된 논쟁에서 미묘한 차이로 상대를 어떻게 설득할 수 있는지, 그리고 학교, 직장, 평생 학습자들의 공동체를 건설할 수 있는지를 조사한다. 이 과정 속에서 국제적인 토론 챔피언이 어떻게 논쟁에서 이기는지, 흑인 음악가가 백인 우월주의자들을 어떻게 설득하여 증오심을 버리게 하는지, 백신 주사를 걱정하는 부모들을 설득하여 어떻게 그들의 아이들에게 예방접종을 시키는지, 그리고 양키스 팬들이 레드삭스를 응원하게 만드는 과정을 통해 확고히 굳어진 신념에 대해 다시 생각하기를 유도하는 법에 대해 알 수 있게 된다. 오랫동안 당연하게 여겨왔던 가정을 의심하라‘다시 생각하기’로 ‘버릴 시점’을 아는 것이 인생의 지혜이다이 책의 핵심 메시지는 이제 더는 도움이 되지 않는 지식이나 의견은 버리자는 것과 일관성보다는 유연성에 자아감의 초점을 맞추자는 것이다. 만일 우리가 다시 생각하기 기술을 터득한다면 우리는 분명 직장에서 성공을 거두고 인생에서 행복을 누릴 보다 유리한 자리에 서게 될 것이다. 다시 생각하기는 오래된 문제에 새로운 해결책을 마련하고, 새로운 문제에 오래된 해결책을 다시 찾는 데 도움을 줄 것이다. 다시 생각하기는 내 주변에 있는 사람들에게서 더 많은 것을 배우고 또 인생을 살아가면서 후회를 보다 더 적게 하게 해주는 지름길이다. 스스로 가장 소중하게 여기는 도구들 가운데 어떤 것들 그리고 자기 정체성의 가장 소중한 것들 가운데 어떤 것들을 버릴 시점을 아는 것, 이것이 바로 지혜임을 알려준다. \\n\\n',\n",
       " '저자소개': '애덤 그랜트\\n와튼스쿨 조직심리학 교수. 하버드대학교 심리학과를 수석으로 졸업하고, 미시간대학교 대학원에서 조직심리학 박사학위를 받았다. 독창적이고 도발적인 저술과 연구 활동에 힘입어 서른한 살이라는 젊은 나이에 와튼스쿨 최연소 종신교수로 임명되었다. 그의 강의는 학생들 사이에서 ‘새롭고 실제로 적용 가능한’ 내용으로 정평이 나 있으며 이를 증명하듯 4년 연속 ‘최우수강의평가상’을 받았다. <비즈니스위크> 선정 ‘대학생이 가장 선호하는 교수’, MBA 컨설팅 사이트 포잇츠앤드콴츠(Poets and Quants)가 뽑은 ‘마흔 살 이하 세계 40대 경영학 교수’, 세계경제포럼 선정 ‘젊은 세계지도자’, ‘세계에서 가장 영향력 있는 경영사상가 25인’ 등으로 손꼽힌다. 저서로는 전 세계 베스트셀러에 오른 《기브앤테이크》, 《오리지널스》가 있다.',\n",
       " '추천사': '\\n애덤 그랜트는 누구나 열린 마음을 유지하는 기술을 가르치고, 배울 수 있다고 믿는다. 엄청나게 가치 있는 이 기술을 그 누구도 이 책에서만큼 잘 가르칠 수 없을 것이다. 이 멋진 책에 담긴 반짝이는 통찰 덕분에 독자는 자기가 가진 의견과 중요한 의사결정을 해야 할 때, 다시 생각하게 될 것이다._대니얼 카너먼, 노벨 경제학상 수상. 《행복의 과학》 《생각에 관한 생각》 등의 저자바로 이 책, 지금 당장 필요한 바로 그 책이다. 학습에는 집중이 필요하다. 그러나 배웠던 것을 잊고 다시 배우는 데는 그보다 훨씬 더 많은 것이 필요하다. 그것은 바로 편안함을 마다하는 용기를 선택하는 과감함이다. 이 책에서 애덤 그랜트는 심리학 연구논문과 스토리텔링을 동원해서 독자가 지적 · 정서적 근육을 만들도록 돕는다. 세상을 실질적으로 바꾸기 위해서는 반드시 세상에 대한 호기심을 가져야 하는데, 이 호기심을 유지하는 데 필요한 게 바로 그 근육이기 때문이다. 내가 모른다는 사실이 이토록 희망적인 신호인 줄 미처 몰랐다._브레네 브라운, 《리더의 용기》 《나는 불완전한 나를 사랑한다》 등의 저자이 책은 집에서든 직장에서든, 혹은 학교에서든 학습과 탐구의 문화를 만들고자 하는 사람에게는 필독서이다. 애덤 그랜트는 따뜻한 마음과 유머로 복잡하고 어려운 연구논문들을 쉽게 풀어내, 사람들이 기존에 가지고 있던 생각들을 끊임없이 의심하면서 새로운 발상과 관점을 끌어안아야만 하는 이유를 매력적으로 주장한다. 점점 더 세분화하는 세상에서 이 책이 담고 있는 교훈은 그 어느 때보다도 중요하다._빌 앤 멀린다 게이츠, 게이츠재단의 공동의장스스로의 믿음을 다시 살펴보겠다는 겸손함과 호기심이 있으면 언제든 스스로를 새로운 사람으로 만들 수 있다는 매력적인 주장이 담겨 있다. 나는 이 책을 읽고 위대한 사상가와 성취자들이 자기가 가진 전문성과 경험을 버리는 한이 있더라도 평생 학습의 자세를 버리지 않았던 이유를 비로소 깨달았다._나이트 시아말란, <식스 센스> <23아이덴티티(Split)> 등의 영화감독다시 한 번 생각해보는 것, 나의 믿음을 의심하는 것의 효용에 대해 저자가 들려주는 다양한 이야기를 읽으며 “오직 가장 지혜로운 사람과 가장 어리석은 사람만이 자신의 생각을 바꾸지 않는다”는 《논어》의 한 구절이 떠올랐습니다. 이 책의 보다 큰 효용은 무엇인가를 새로 알게 되는 것이 우리 삶에 큰 배움과 기쁨으로 다가옴을 다시 한 번 일깨워준 것이 아닐까 합니다. 저자의 말에 의하면 “지능지수가 높은 사람일수록 고정관념에 빠져들 가능성이 더 높다”고 하니, 많은 것이 빠르게 변화하는 지금, 이 땅의 지능지수가 높은 분들에게 더욱 일독을 권합니다._송길영, 마인드 마이너이 책을 읽으면서 애덤 그랜트의 책이 맞나 싶었다. 《오리지널스》와는 완전히 다른 깊이의 내공을 보여주기 때문이다. 애덤 그랜트는 ‘다시 생각하기’라는 한 단어로 자기계발과 경영경제의 핵심을 관통하고 있다. 개인과 조직, 그리고 사회의 여러 문제와 현상, 특히 개인의 자기계발과 협상, 조직의 혁신까지 애덤 그랜트는 이 한 권으로 핵심을 지적하고 있다. 놀라운 책이고, 반드시 읽어야 할 책이다. _이동우, 고려대학교 고령사회연구센터 센터장어떻게 하면 나만이 옳다는 확신과 교만에 빠지지 않고 유연한 사고를 할 수 있을까? 그런 고민에 대한 해답을 주는 책이다. 《오리지널스》《기브앤테이크》에 이어 또 이런 깨달음을 주는 책을 쓰다니, 역시 애덤 그랜트다! _임정욱, TBT 대표 개인도 조직도 다들 새 출발과 리부팅을 이야기한다. 문제는 ‘어떻게’이다. 저자 특유의 1인칭 화법 스토리텔링이 또 한 번 빛난다. 독자를 앞에 두고 일대일 상담하듯 다양한 일화와 도전적인 연구, 함축적인 사례를 풀어놓고 말을 걸어온다. 여기에 자신의 갖가지 시행착오까지 털어놓고 원인을 복기해가며 당신은 그런 적 없냐고 반문한다. 왜 없겠는가. 책을 덮고 나면 친구 같은 멘토와 새로운 생각의 산책로를 걷고 난 기분이 든다._전병근, 북클럽 오리진 지식큐레이터\\n\\n',\n",
       " '목차': '프롤로그 \\n\\n[1부] 개인 차원의 다시 생각하기\\n:자기 견해 업데이트하기\\n\\n1장. 우리 마음속의 전도사, 검사, 정치인, 그리고 과학자 \\n2장. 안락의자 쿼터백과 가면을 쓴 사기꾼\\n\\n❙확신의 최적점 찾기\\n3장. 틀렸을 때 느끼는 기쁨\\n❙자기가 생각하는 모든 것을 믿지 않을 때의 희열\\n4장. 어느 멋진 파이트클럽\\n❙건설적인 갈등의 심리학\\n\\n[2부] 개인과 개인 사이의 다시 생각하기\\n:상대방의 마음 열기\\n\\n5장. 적과 함께 춤을\\n❙논쟁에서 이기고 상대방에게 영향력을 행사하는 법\\n6장. 다이아몬드에 묻은 나쁜 피\\n❙고정관념을 흔들어서 편견을 줄이다\\n7장. 백신을 속삭이는 사람과 부드러운 태도의 심문자\\n❙올바른 경청이 상대방을 변화시킨다\\n\\n[3부] 집단 차원의 다시 생각하기\\n:평생 학습 공동체 만들기\\n\\n8장. 격앙된 대화\\n❙평행선을 달리는 토론을 하나로 녹이다\\n9장. 교과서 다시 쓰기\\n❙자신의 지식을 의심하게 가르치다\\n10장. 그것은 우리가 늘 해오던 방식이 아니다\\n❙직장에 학습 문화를 구축하다\\n\\n[4부] 결론\\n\\n11장. 터널시야 탈출하기\\n❙최상이라 생각했던 직업 경력 및 인생의 여러 계획을 다시 살피다\\n\\n에필로그 \\n행동 지침 \\n감사의 말 \\n주 \\n이미지 출처',\n",
       " '책속으로': '없음',\n",
       " '출판사리뷰': '없음'}"
      ]
     },
     "execution_count": 4,
     "metadata": {},
     "output_type": "execute_result"
    }
   ],
   "source": [
    "sample_isbn = '9788947547079'\n",
    "parse_bandi(sample_isbn)"
   ]
  },
  {
   "cell_type": "markdown",
   "id": "aa262cf4",
   "metadata": {},
   "source": [
    "# 대량 크롤링"
   ]
  },
  {
   "cell_type": "code",
   "execution_count": null,
   "id": "d4950bdb",
   "metadata": {
    "ExecuteTime": {
     "start_time": "2021-06-17T00:10:06.162Z"
    }
   },
   "outputs": [
    {
     "data": {
      "application/vnd.jupyter.widget-view+json": {
       "model_id": "5be9f77cda1c49bbb33787f9824440bb",
       "version_major": 2,
       "version_minor": 0
      },
      "text/plain": [
       "  0%|          | 0/10000 [00:00<?, ?it/s]"
      ]
     },
     "metadata": {},
     "output_type": "display_data"
    }
   ],
   "source": [
    "num = 1680000\n",
    "count_save = num - 10000\n",
    "\n",
    "results = []\n",
    "for isbn in tqdm(isbns[num - 10000:num]):\n",
    "    time.sleep(1)\n",
    "    try:\n",
    "        result = parse_bandi(str(isbn))\n",
    "        results.append(result)\n",
    "    except:\n",
    "        result = {'isbn' : str(isbn),\n",
    "                  '제목' : '없음',\n",
    "                  '저자' : '없음',\n",
    "                  '역자' : '없음',\n",
    "                  '출판일' : '없음',\n",
    "                  '출판사' : '없음',\n",
    "                  '별점' : '없음',\n",
    "                  '리뷰' : '없음',\n",
    "                  '카테고리' : '없음',\n",
    "                  '책소개' : '없음',\n",
    "                  '저자소개' : '없음',\n",
    "                  '추천사' : '없음',\n",
    "                  '목차' : '없음',\n",
    "                  '책속으로' : '없음',\n",
    "                  '출판사리뷰' : '없음'\n",
    "                 }\n",
    "        results.append(result)\n",
    "        \n",
    "    count_save += 1\n",
    "    \n",
    "    if count_save % 1000 == 0:\n",
    "        file_name = f'bandi_{count_save}_2,870,000.csv'\n",
    "        results_df = pd.DataFrame(results)\n",
    "        results_df.to_csv('./crawled_this_week/' + file_name, encoding='utf-8-sig')\n",
    "        results = []\n",
    "        print(f'saving {count_save}th results to {file_name}')\n",
    "        \n",
    "print('Crawling Completed')"
   ]
  },
  {
   "cell_type": "code",
   "execution_count": null,
   "id": "87b4b3ba",
   "metadata": {},
   "outputs": [],
   "source": []
  }
 ],
 "metadata": {
  "hide_input": false,
  "kernelspec": {
   "display_name": "Python 3",
   "language": "python",
   "name": "python3"
  },
  "language_info": {
   "codemirror_mode": {
    "name": "ipython",
    "version": 3
   },
   "file_extension": ".py",
   "mimetype": "text/x-python",
   "name": "python",
   "nbconvert_exporter": "python",
   "pygments_lexer": "ipython3",
   "version": "3.7.10"
  },
  "toc": {
   "base_numbering": 1,
   "nav_menu": {},
   "number_sections": true,
   "sideBar": true,
   "skip_h1_title": false,
   "title_cell": "Table of Contents",
   "title_sidebar": "Contents",
   "toc_cell": false,
   "toc_position": {},
   "toc_section_display": true,
   "toc_window_display": true
  },
  "varInspector": {
   "cols": {
    "lenName": 16,
    "lenType": 16,
    "lenVar": 40
   },
   "kernels_config": {
    "python": {
     "delete_cmd_postfix": "",
     "delete_cmd_prefix": "del ",
     "library": "var_list.py",
     "varRefreshCmd": "print(var_dic_list())"
    },
    "r": {
     "delete_cmd_postfix": ") ",
     "delete_cmd_prefix": "rm(",
     "library": "var_list.r",
     "varRefreshCmd": "cat(var_dic_list()) "
    }
   },
   "types_to_exclude": [
    "module",
    "function",
    "builtin_function_or_method",
    "instance",
    "_Feature"
   ],
   "window_display": false
  }
 },
 "nbformat": 4,
 "nbformat_minor": 5
}
