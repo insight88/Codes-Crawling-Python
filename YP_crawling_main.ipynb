{
 "cells": [
  {
   "cell_type": "markdown",
   "metadata": {},
   "source": [
    "# 패키지 선언"
   ]
  },
  {
   "cell_type": "code",
   "execution_count": 5,
   "metadata": {
    "ExecuteTime": {
     "end_time": "2021-04-16T01:05:50.796683Z",
     "start_time": "2021-04-16T01:05:48.829799Z"
    }
   },
   "outputs": [
    {
     "name": "stdout",
     "output_type": "stream",
     "text": [
      "Mozilla/5.0 (Windows NT 6.1; WOW64) AppleWebKit/537.36 (KHTML, like Gecko) Chrome/41.0.2227.0 Safari/537.36\n"
     ]
    }
   ],
   "source": [
    "# 패키지 불러오기\n",
    "\n",
    "import requests\n",
    "import bs4\n",
    "from bs4 import BeautifulSoup\n",
    "import os\n",
    "import random\n",
    "import hashlib\n",
    "import urllib.request\n",
    "import urllib\n",
    "from urllib.parse import urlparse, urlencode, parse_qs\n",
    "import pandas as pd\n",
    "import csv\n",
    "import re\n",
    "\n",
    "from datetime import datetime, timedelta\n",
    "from urllib import parse\n",
    "from openpyxl import load_workbook\n",
    "import time\n",
    "import requests\n",
    "import numpy as np\n",
    "import json\n",
    "from random import *\n",
    "from tqdm.notebook import tqdm\n",
    "\n",
    "from selenium import webdriver\n",
    "from selenium.webdriver.firefox.options import Options\n",
    "from fake_useragent import UserAgent\n",
    "\n",
    "from selenium.webdriver import ActionChains\n",
    "from selenium.webdriver.common.keys import Keys\n",
    "from selenium.webdriver.common.by import By\n",
    "from selenium.webdriver.support import expected_conditions as EC\n",
    "from selenium.webdriver.support.ui import WebDriverWait\n",
    "from selenium.common.exceptions import NoSuchElementException\n",
    "from selenium.common.exceptions import StaleElementReferenceException\n",
    "from selenium.common.exceptions import TimeoutException\n",
    "from selenium.common.exceptions import UnexpectedAlertPresentException\n",
    "\n",
    "ua = UserAgent()\n",
    "userAgent = ua.random\n",
    "print(userAgent)\n",
    "\n",
    "options = Options()\n",
    "options.add_argument(f\"user-agent={userAgent}\")\n",
    "options.add_argument('--headless')\n",
    "options.add_argument('--no-sandbox')\n",
    "options.add_argument('--disable-dev-shm-usage')\n",
    "options.add_argument('--ignore-certificate-errors')\n",
    "options.add_argument('--incognito')\n",
    "\n",
    "executable_path = '/home/ubuntu/book_crawling/geckodriver' # chrome driver의 경로\n",
    "driver = webdriver.Firefox(executable_path=executable_path, options=options)"
   ]
  },
  {
   "cell_type": "markdown",
   "metadata": {},
   "source": [
    "# 영풍문고 크롤링 함수"
   ]
  },
  {
   "cell_type": "code",
   "execution_count": 6,
   "metadata": {
    "ExecuteTime": {
     "end_time": "2021-04-16T01:05:51.773195Z",
     "start_time": "2021-04-16T01:05:51.756733Z"
    }
   },
   "outputs": [],
   "source": [
    "def parse_YP(isbn):\n",
    "    \n",
    "    book = {'isbn' : isbn,\n",
    "            '제목' : '없음',\n",
    "            '저자' : '없음',\n",
    "            '역자' : '없음',\n",
    "            '별점' : '없음',\n",
    "            '리뷰' : '없음',\n",
    "            '카테고리' : '없음',\n",
    "            '책소개' : '없음',\n",
    "            '저자소개' : '없음',\n",
    "            '추천사' : '없음',\n",
    "            '목차' : '없음',\n",
    "            '책속으로' : '없음',\n",
    "            '출판사리뷰' : '없음'\n",
    "           }\n",
    "    \n",
    "    search_page = 'https://www.ypbooks.co.kr/search.yp?query='\n",
    "    driver.get(search_page + isbn)\n",
    "    link = driver.find_element_by_class_name('recom').find_element_by_tag_name('a')\n",
    "    link.click()\n",
    "    \n",
    "    driver.implicitly_wait(1)\n",
    "    soup = BeautifulSoup(driver.page_source, 'html.parser')\n",
    "\n",
    "     # 제목\n",
    "    try:\n",
    "        title_el = soup.select_one('.bookNameTitle')\n",
    "        title = title_el.text.strip()\n",
    "    except:\n",
    "        title = '없음'\n",
    "    book['제목'] = title\n",
    "\n",
    "    # 저자, 역자\n",
    "    try:\n",
    "        info_bar = soup.select_one('.mT10.prodInfo-dd')\n",
    "        author = re.search('저자[^출판사]*', info_bar.text).group().replace('ㅣ', '').strip()\n",
    "        try:\n",
    "            translator = re.search('역자[^2|1]*', info_bar.text).group().replace('ㅣ', '').strip()\n",
    "        except:\n",
    "            translator = '없음'\n",
    "    except:\n",
    "        author = '없음'\n",
    "    book['저자'] = author\n",
    "    book['역자'] = translator\n",
    "    \n",
    "    #  info_tabs\n",
    "    info_tabs = soup.select('.infoTab')\n",
    "    contents = info_tabs[0].find_next_siblings()\n",
    "    contents_f = list(filter(lambda x: 'tabCon' in str(x), contents))\n",
    "    \n",
    "    # 별점, 리뷰\n",
    "    book['별점'] = '없음'\n",
    "    book['리뷰'] = '없음'\n",
    "    book['추천사'] = '없음'\n",
    "      \n",
    "    category = '없음'\n",
    "    book_info = '없음'\n",
    "    in_book = '없음'\n",
    "    table = '없음'\n",
    "    pub_review = '없음'\n",
    "    author_info = '없음'\n",
    "    translator_info = '없ㅇ므'\n",
    "    \n",
    "    for i in range(len(contents_f)):\n",
    "        # 카테고리\n",
    "        if '분류' in contents_f[i].find_previous_siblings('ul')[0].select_one('.on').text:\n",
    "            category_el = contents_f[i]\n",
    "            category = category_el.text.strip()\n",
    "        \n",
    "        # 책소개\n",
    "        if '도서정보' in contents_f[i].find_previous_siblings('ul')[0].select_one('.on').text:\n",
    "            book_info_el = contents_f[i]\n",
    "            book_info = book_info_el.text.replace('펼쳐보기', '').strip()\n",
    "        \n",
    "        # 목차, 책속으로\n",
    "        if '목차' in contents_f[i].find_previous_siblings('ul')[0].select_one('.on').text:\n",
    "            table_el = contents_f[i]\n",
    "            table_t = table_el.text.replace('펼쳐보기', '').replace('이미지 출처', '').replace('\\t', '').strip()\n",
    "            in_book = '없음'\n",
    "            if '본 문' in table_t:\n",
    "                in_book = re.search('\\[본\\s?문\\](.|\\s)*', table_t).group().replace('[본 문]\\n\\n', '')\n",
    "                table = table_t[:table_t.find('[본 문]')].replace('[목 차]\\n\\n', '').strip()\n",
    "            else:\n",
    "                table = table_t\n",
    "        \n",
    "        # 출판사리뷰\n",
    "        if '출판사서평' in contents_f[i].find_previous_siblings('ul')[0].select_one('.on').text:\n",
    "            pub_review_el = contents_f[i]\n",
    "            pub_review = pub_review_el.text.replace('펼쳐보기', '').strip()\n",
    "\n",
    "        # 저자소개, 역자소개\n",
    "        if '저자' in contents_f[i].find_previous_siblings('ul')[0].select_one('.on').text:\n",
    "            author_info_el = contents_f[i]\n",
    "            author_text = author_info_el.text.replace('펼쳐보기', '').strip()\n",
    "            if '옮긴이' in author_text:\n",
    "                translator_info = re.search('옮긴이(.|\\s)*', author_text).group()\n",
    "                author_info = author_text[:author_text.find('옮긴이')].strip()\n",
    "            else:\n",
    "                author_info = author_text\n",
    "    \n",
    "    book = {'isbn' : isbn,\n",
    "            '제목' : title,\n",
    "            '저자' : author,\n",
    "            '역자' : translator,\n",
    "            '별점' : '없음',\n",
    "            '리뷰' : '없음',\n",
    "            '카테고리' : category,\n",
    "            '책소개' : book_info,\n",
    "            '저자소개' : author_info,\n",
    "            '추천사' : '없음',\n",
    "            '목차' : table,\n",
    "            '책속으로' : in_book,\n",
    "            '출판사리뷰' : pub_review\n",
    "            }\n",
    "    \n",
    "    return book"
   ]
  },
  {
   "cell_type": "code",
   "execution_count": 7,
   "metadata": {
    "ExecuteTime": {
     "end_time": "2021-04-16T01:05:56.055611Z",
     "start_time": "2021-04-16T01:05:52.948627Z"
    },
    "scrolled": true
   },
   "outputs": [
    {
     "data": {
      "text/plain": [
       "{'isbn': '9791190779272',\n",
       " '제목': '진화의 오리진',\n",
       " '저자': '저자 : 존그리빈,메리그리빈',\n",
       " '역자': '역자 : 권루시안',\n",
       " '별점': '없음',\n",
       " '리뷰': '없음',\n",
       " '카테고리': '국내도서  > 자연 > 과학일반 > 자연교양물',\n",
       " '책소개': '『네이처』 선정 ‘최고의 과학저술가’ 존 그리빈의 신작,\\n아리스토텔레스부터 DNA까지 다윈의 ‘위험한 생각’을 추적하다!\\n『진화의 오리진』은 ‘진화’에 관한 흥미진진한 이야기다. 진화에 관한 과학적 사실을 발견해 나가는 과정을 명쾌한 구성과 통찰력을 갖춘 글로 풀어냈다. 존 그리빈과 공저자인 메리 그리빈은 ‘다윈의 위험한 생각’을 바탕으로 ‘진화’라는 방대한 주제에 대해 유전학, 지질학 등 각 분야의 세밀한 내용까지 넓고도 깊게 망라하여 설명하고 있다.\\n☞ 선정 및 수상내역\\n★★★ Waterstone 선정 2020년 최고의 책 ★★★',\n",
       " '저자소개': '존 그리빈\\n존 그리빈은 케임브리지 대학교에서 천문학 박사 학위를 받고 『네이처』에서, 이어 『뉴 사이언티스트』지에서 저널리스트로 활동했다. 얼핏 어렵다는 인상을 주기 쉬운 과학 분야에 관한 이야기를 쉽고 재미있게 풀어내는 솜씨가 뛰어나, 영국 BBC 뉴스에서 그의 책 『슈뢰딩거의 고양이를 찾아서』를 가리켜 수학에 대한 관심을 되살리는 방법을 잘 보여 주는 사례라고 말한 일도 있다(2002). 과학자라기보다 소설처럼 읽을 수 있는 과학 도서 작가이자 과학을 바탕으로 하는 소설 작가라고 자신을 소개하는 그는 『다중우주를 찾아서』와 『우주』 등 수많은 베스트셀러를 썼고, 여러 나라에서 수많은 상을 받았다.\\n\\n메리 그리빈\\n영국에서 활동하는 교육자이자 아동청소년 과학 도서 작가로서, 심리학을 전공한 뒤 특별한 보살핌이 필요한 4~16세 아동청소년들을 위해 20년 동안 일한 경력이 있다. 『쉬』, 『코스모폴리탄』, 『가디언』 등 여러 신문 잡지에 기고했고, 『시간과 우주』라는 책으로 을 받았을 정도로 어려운 개념을 쉽게 잘 풀어 전달하는 재능이 뛰어나다는 평을 듣는다. 특히 아동청소년 도서 작가로 가장 잘 알려져 있다.',\n",
       " '추천사': '없음',\n",
       " '목차': '[목 차]\\n\\n머리말\\n시작하며\\n\\n제1부 고대\\n1 유리창 너머로 어둑하게\\n2 새벽 아닌 새벽\\n3 시간의 선물\\n\\n제2부 중세\\n4 다윈에서 다윈까지\\n5 월리스와 다윈\\n6 다윈과 월리스\\n\\n제3부 현대\\n7 완두콩 주름에서 염색체까지\\n8 결정학과 DNA의 역할\\n9 신라마르크주의\\n\\n감사의 말씀\\n주\\n자료 출처와 읽어 볼 만한 글\\n찾아보기',\n",
       " '책속으로': '없음',\n",
       " '출판사리뷰': '진화는 진화하고 있다\\n“진화는 사실이다. 자연에서, 특히 찰스 다윈의 연구로 유명해진 갈라파고스 제도의 핀치새들에서, 지구의 생물이 남긴 화석 기록에서, 또 ‘슈퍼세균’이 항생제에 대한 내성을 키워 나가는 것에서 진화가 일어나고 있음이 관찰된다. 이 사실을 설명하기 위해 여러 이론이 제시됐다. 사물이 아래로 떨어지고, 행성이 태양을 도는 궤도를 유지한다는 사실을 설명하기 위해 아이작 뉴턴과 알베르트 아인슈타인이 중력 이론을 제시한 것과 마찬가지다.”\\n저자는 『진화의 오리진』에서 ‘진화’라는 방대한 주제에 대해 유전학, 지질학 등 각 분야의 세밀한 내용까지 넓고도 깊게 망라하여 통찰력을 가지고 일관되게 설명하고 있다. 그 결과 고대에서부터 르네상스 시대를 지나 17~18세기 계몽 시대, 나아가 20세기 유전 현상의 발견과 최근 새로운 발견에 이르기까지 현재의 모습에 매우 가까운 진화 과학을 제시한다.\\n\\n진화 이론은 찰스 다윈의 머리에서\\n어느 날 뜬금없이 튀어나온 것이 아니다\\n자연선택에 의한 진화 이론이 찰스 다윈의 머릿속에서 완성된 상태로 어느 날 갑자기 튀어나왔을까? 그 이전에는 생각조차 안 하던 주제일까? 그렇지 않다. ‘진화 관념’은 고대 그리스 시대 이래로 여러 모습으로 존재해 왔고, 다윈 진화론의 핵심인 ‘자연선택 관념’ 역시 다윈의 몇몇 선배나 동시대 사람들도 어렴풋이 반쯤은 알고 있었다. 또 다윈과 같은 시대 사람 중 앨프리드 러셀 월리스는 그것을 다윈만큼이나 뚜렷하게 알고 있었다. 이 책은 다윈과 월리스 사이에서 오고 간 편지들과, 두 사람이 관찰과 추론을 통해 각기 독자적으로 생각해 낸 자연선택에 의한 진화 이론을 공동 논문으로 발표하기까지 일어난 여러 사건을 흥미진진하게 묘사하고 있다.\\n\\n진화 이야기는 이제 막 시작됐을 뿐이다\\n『진화의 오리진』 ‘제1부 고대’는 고대부터 19세기 초까지 진화에 관한 생각을 개관하는 것으로 시작한다. ‘제2부 중세’는 19세기의 발전에 초점을 맞추어, 찰스 다윈을 중심으로 이야기가 전개되고, 앨프리드 러셀 월리스도 함께 조명한다. 마지막으로 ‘제3부 현대’는 멘델 유전학에서부터 DNA의 구조와 기능을 밝히는 과정에 이어 유전자의 수평이동과 후성유전학 등 최근 연구까지 언급하고 있다.\\n이 책은 사실 ‘진화 자체의 기원’에 관한 책이 아니라 ‘진화라는 관념의 기원’에 관한 책이다. 진화 관념은 일단 설명을 듣고 나면 금방 이해할 수 있지만, 그 생각을 먼저 할 수 있으려면 뛰어난 혜안이 있어야 한다. 다윈의 또 한 가지 공은 그 생각을 보통 사람이 쉽고 명확하게 이해할 수 있는 책으로 내놓았다는 데에 있다. 『진화의 오리진』에서 이러한 다윈의 공로를 높이 평가하는 동시에, 그것이 고대로부터 이어 내려와 지금도 계속 이어 나가고 있는 진화 사슬 속의 수많은 고리 중 하나라는 사실을 보여 준다. 그리고 관련된 주요 인물들을 집중 조명함으로써 진화 이야기가 다윈 이전과 이후에 어떻게 전개되었는지를 보여 준다. 끝으로 저자는 진화의 과학적 이해는 21세기의 20년대에 들어가고 있는 지금도 여전히 진화하고 있다는 사실을 알려 준다. 아인슈타인이 뉴턴의 이론을 개량했다고 해서 사과가 나무에서 떨어지기를 멈추지 않은 것처럼, 누군가 다윈의 이론을 개량한다고 해서 생물이 진화를 멈추지는 않을 것이다. 진화 이야기는 이제 막 시작됐을 뿐이다.\\n\\n\\n추천사\\n\\n최재천(교수, 다윈포럼 대표, 『다윈지능』의 저자)\\n“나는 이 책에 ‘조곤조곤 진화 이야기’라는 부제를 붙이고 싶다. 기원전 그리스 시대 엠페도클레스와 아리스토텔레스에서 시작한 진화학의 여정은 고대 중국의 장자와 이슬람 학자들을 거쳐 서유럽과 영국 학자들에게 이른다. 다윈과 월리스의 자연선택에 의한 진화 이론은 멘델의 유전 법칙과 DNA 이중나선 구조의 발견으로 손에 잡힐 듯 명백해졌다. 등장인물만 해도 거의 150명에 달하는 진화의 대서사인데 마치 겨울밤 모닥불 곁에 두런두런 모여 앉아 듣는 듯 술술 넘어간다. 모름지기 생물학도라면 말할 것도 없고 진화에 조금이라도 관심 있는 독자라면 반드시 읽어야 할 책이다. 그리빈 부부는 타고난 이야기꾼들이다.” \\n\\n<가디언 Guardian>\\n“존 그리빈 ㆍ 메리 그리빈의 글은 매우 명확하다.”\\n\\n<선데이 타임스 Sunday Times>\\n“정확하면서도 신비롭다. … 시처럼 아름답고 소설처럼 흥미진진하다.”\\n\\n<더 타임스 The Times>\\n“너무나 훌륭한 읽을거리”\\n\\n<더 옵저버토리(과학 저널) The Observatory>\\n“꼼꼼히 연구하여 쓴 세련된 글이다. … 더없이 재미있는 책이다.”'}"
      ]
     },
     "execution_count": 7,
     "metadata": {},
     "output_type": "execute_result"
    }
   ],
   "source": [
    "sample_isbn = '9791190779272'\n",
    "parse_YP(sample_isbn)"
   ]
  },
  {
   "cell_type": "markdown",
   "metadata": {},
   "source": [
    "# csv파일 불러오기 & 크롤링"
   ]
  },
  {
   "cell_type": "code",
   "execution_count": 8,
   "metadata": {
    "ExecuteTime": {
     "end_time": "2021-04-16T01:06:29.923638Z",
     "start_time": "2021-04-16T01:06:27.848299Z"
    }
   },
   "outputs": [
    {
     "name": "stderr",
     "output_type": "stream",
     "text": [
      "/home/ubuntu/anaconda3/envs/pytorch_p36/lib/python3.6/site-packages/IPython/core/interactiveshell.py:2785: DtypeWarning: Columns (1) have mixed types. Specify dtype option on import or set low_memory=False.\n",
      "  interactivity=interactivity, compiler=compiler, result=result)\n"
     ]
    },
    {
     "data": {
      "text/plain": [
       "2872189"
      ]
     },
     "execution_count": 8,
     "metadata": {},
     "output_type": "execute_result"
    }
   ],
   "source": [
    "book_specs = pd.read_csv('./book_spec_korean_isbns.csv', low_memory=False)\n",
    "isbns = book_specs.loc[:, '0'].tolist()\n",
    "\n",
    "len(isbns)"
   ]
  },
  {
   "cell_type": "markdown",
   "metadata": {},
   "source": [
    "# 대량 크롤링"
   ]
  },
  {
   "cell_type": "code",
   "execution_count": null,
   "metadata": {
    "ExecuteTime": {
     "start_time": "2021-04-16T01:06:37.239Z"
    }
   },
   "outputs": [
    {
     "data": {
      "application/vnd.jupyter.widget-view+json": {
       "model_id": "28707cd9b9dd4c8584e9cf013709e774",
       "version_major": 2,
       "version_minor": 0
      },
      "text/plain": [
       "HBox(children=(FloatProgress(value=0.0, max=10000.0), HTML(value='')))"
      ]
     },
     "metadata": {},
     "output_type": "display_data"
    },
    {
     "name": "stdout",
     "output_type": "stream",
     "text": [
      "saving 261000th results to YP_261000_287,000.csv\n",
      "saving 262000th results to YP_262000_287,000.csv\n",
      "saving 263000th results to YP_263000_287,000.csv\n",
      "saving 264000th results to YP_264000_287,000.csv\n",
      "saving 265000th results to YP_265000_287,000.csv\n",
      "saving 266000th results to YP_266000_287,000.csv\n"
     ]
    }
   ],
   "source": [
    "num = 270000\n",
    "count_save = num - 10000\n",
    "results = []\n",
    "for isbn in tqdm(isbns[num-10000:num]):\n",
    "    time.sleep(2)\n",
    "    try:\n",
    "        result = parse_YP(isbn)\n",
    "        results.append(result)\n",
    "    except:\n",
    "        result = {'isbn' : isbn,\n",
    "                  '제목' : '없음',\n",
    "                  '저자' : '없음',\n",
    "                  '역자' : '없음',\n",
    "                  '별점' : '없음',\n",
    "                  '리뷰' : '없음',\n",
    "                  '카테고리' : '없음',\n",
    "                  '책소개' : '없음',\n",
    "                  '저자소개' : '없음',\n",
    "                  '추천사' : '없음',\n",
    "                  '목차' : '없음',\n",
    "                  '책속으로' : '없음',\n",
    "                  '출판사리뷰' : '없음'\n",
    "                 }\n",
    "        results.append(result)\n",
    "\n",
    "    count_save += 1\n",
    "    \n",
    "    if count_save % 1000 == 0:\n",
    "        file_name = f'YP_{count_save}_287,000.csv'\n",
    "        results_df = pd.DataFrame(results)\n",
    "        results_df.to_csv('./crawled_csv/' + file_name, encoding='utf-8-sig')\n",
    "        results = []\n",
    "        print(f'saving {count_save}th results to {file_name}')\n",
    "        \n",
    "print('Crawling Completed')"
   ]
  }
 ],
 "metadata": {
  "hide_input": false,
  "kernelspec": {
   "display_name": "Python 3",
   "language": "python",
   "name": "python3"
  },
  "language_info": {
   "codemirror_mode": {
    "name": "ipython",
    "version": 3
   },
   "file_extension": ".py",
   "mimetype": "text/x-python",
   "name": "python",
   "nbconvert_exporter": "python",
   "pygments_lexer": "ipython3",
   "version": "3.6.5"
  },
  "toc": {
   "base_numbering": 1,
   "nav_menu": {},
   "number_sections": true,
   "sideBar": true,
   "skip_h1_title": false,
   "title_cell": "Table of Contents",
   "title_sidebar": "Contents",
   "toc_cell": false,
   "toc_position": {},
   "toc_section_display": true,
   "toc_window_display": false
  },
  "varInspector": {
   "cols": {
    "lenName": 16,
    "lenType": 16,
    "lenVar": 40
   },
   "kernels_config": {
    "python": {
     "delete_cmd_postfix": "",
     "delete_cmd_prefix": "del ",
     "library": "var_list.py",
     "varRefreshCmd": "print(var_dic_list())"
    },
    "r": {
     "delete_cmd_postfix": ") ",
     "delete_cmd_prefix": "rm(",
     "library": "var_list.r",
     "varRefreshCmd": "cat(var_dic_list()) "
    }
   },
   "types_to_exclude": [
    "module",
    "function",
    "builtin_function_or_method",
    "instance",
    "_Feature"
   ],
   "window_display": false
  }
 },
 "nbformat": 4,
 "nbformat_minor": 5
}
