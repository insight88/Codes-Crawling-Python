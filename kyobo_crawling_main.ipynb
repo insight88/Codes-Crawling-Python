{
 "cells": [
  {
   "cell_type": "markdown",
   "metadata": {},
   "source": [
    "# 패키지 선언"
   ]
  },
  {
   "cell_type": "code",
   "execution_count": 1,
   "metadata": {
    "ExecuteTime": {
     "end_time": "2021-04-13T00:23:00.608482Z",
     "start_time": "2021-04-13T00:22:58.088493Z"
    }
   },
   "outputs": [
    {
     "name": "stdout",
     "output_type": "stream",
     "text": [
      "Mozilla/5.0 (Windows NT 6.1; WOW64; rv:40.0) Gecko/20100101 Firefox/40.1\n"
     ]
    }
   ],
   "source": [
    "# 패키지 불러오기\n",
    "\n",
    "import requests\n",
    "import bs4\n",
    "from bs4 import BeautifulSoup\n",
    "import os\n",
    "import random\n",
    "import hashlib\n",
    "import urllib.request\n",
    "import urllib\n",
    "from urllib.parse import urlparse, urlencode, parse_qs\n",
    "import pandas as pd\n",
    "import csv\n",
    "import re\n",
    "\n",
    "from datetime import datetime, timedelta\n",
    "from urllib import parse\n",
    "from openpyxl import load_workbook\n",
    "import time\n",
    "import requests\n",
    "import numpy as np\n",
    "import json\n",
    "from random import *\n",
    "from tqdm.notebook import tqdm\n",
    "\n",
    "from selenium import webdriver\n",
    "from selenium.webdriver.firefox.options import Options\n",
    "from fake_useragent import UserAgent\n",
    "\n",
    "from selenium.webdriver import ActionChains\n",
    "from selenium.webdriver.common.keys import Keys\n",
    "from selenium.webdriver.common.by import By\n",
    "from selenium.webdriver.support import expected_conditions as EC\n",
    "from selenium.webdriver.support.ui import WebDriverWait\n",
    "from selenium.common.exceptions import NoSuchElementException\n",
    "from selenium.common.exceptions import StaleElementReferenceException\n",
    "from selenium.common.exceptions import TimeoutException\n",
    "from selenium.common.exceptions import UnexpectedAlertPresentException\n",
    "\n",
    "ua = UserAgent()\n",
    "userAgent = ua.random\n",
    "print(userAgent)\n",
    "\n",
    "options = Options()\n",
    "options.add_argument(f\"user-agent={userAgent}\")\n",
    "options.add_argument('--headless')\n",
    "options.add_argument('--no-sandbox')\n",
    "options.add_argument('--disable-dev-shm-usage')\n",
    "options.add_argument('--ignore-certificate-errors')\n",
    "options.add_argument('--incognito')\n",
    "\n",
    "executable_path = '/home/ubuntu/book_crawling/geckodriver' # chrome driver의 경로\n",
    "driver = webdriver.Firefox(executable_path=executable_path, options=options)"
   ]
  },
  {
   "cell_type": "markdown",
   "metadata": {},
   "source": [
    "# 교보문고 크롤링 함수"
   ]
  },
  {
   "cell_type": "code",
   "execution_count": 2,
   "metadata": {
    "ExecuteTime": {
     "end_time": "2021-04-13T00:23:05.337705Z",
     "start_time": "2021-04-13T00:23:05.318668Z"
    }
   },
   "outputs": [],
   "source": [
    "def parse_kyobo(isbn):\n",
    "    \n",
    "    book = {'isbn' : isbn,\n",
    "            '제목' : '없음',\n",
    "            '저자' : '없음',\n",
    "            '역자' : '없음',\n",
    "            '별점' : '없음',\n",
    "            '리뷰' : '없음',\n",
    "            '카테고리' : '없음',\n",
    "            '책소개' : '없음',\n",
    "            '저자소개' : '없음',\n",
    "            '추천사' : '없음',\n",
    "            '목차' : '없음',\n",
    "            '책속으로' : '없음',\n",
    "            '출판사리뷰' : '없음'\n",
    "           }\n",
    "    \n",
    "    try:\n",
    "        book_spec = 'http://www.kyobobook.co.kr/product/detailViewKor.laf?mallGb=KOR&ejkGb=KOR&barcode='\n",
    "        url = book_spec + isbn\n",
    "        driver.get(url)\n",
    "        \n",
    "        page_source = driver.page_source\n",
    "        soup = BeautifulSoup(page_source, 'html.parser')\n",
    "        spec_tags = soup.select('.box_detail_article')\n",
    "        \n",
    "        try:\n",
    "            buttons = driver.find_elements_by_class_name('btn_small.btn_more')  # 모든 버튼\n",
    "            more_btns = list(filter(lambda x: '더보기' in x.text, buttons))    # 더보기 버튼\n",
    "            for btn in more_btns:\n",
    "                btn.click()\n",
    "        except:\n",
    "            pass\n",
    "\n",
    "        page_source = driver.page_source\n",
    "        soup = BeautifulSoup(page_source, 'html.parser')\n",
    "\n",
    "        # 제목, 저자, 역자\n",
    "        box_detail = soup.select_one('.box_detail_point')\n",
    "        title = box_detail.find('strong').text.strip()\n",
    "        book['제목'] = title\n",
    "        \n",
    "        try:\n",
    "            authors = box_detail.select('.detail_author')\n",
    "            author = ','.join([auth.text.strip() for auth in authors])\n",
    "        except:\n",
    "            author = '없음'\n",
    "        book['저자'] = author\n",
    "            \n",
    "        try:\n",
    "            translators = box_detail.select('.detail_translator')\n",
    "            translator = ','.join([tran.text for tran in translators])\n",
    "        except:\n",
    "            translator = '없음'\n",
    "        book['역자'] = translator\n",
    "        \n",
    "        # 별점, 리뷰\n",
    "        try:\n",
    "            popup = soup.select_one('.popup_load')\n",
    "            rating = popup.em.text\n",
    "            review_text = popup.em.nextSibling.strip()\n",
    "            review_num = re.findall('\\d+', review_text)[0]\n",
    "        except:\n",
    "            rating = '없음'\n",
    "            review_num = '없음'\n",
    "        book['별점'] = rating\n",
    "        book['리뷰'] = review_num\n",
    "        \n",
    "        # 카테고리\n",
    "        try:\n",
    "            cate_list = soup.select_one('.list_detail_category').find_all('a')\n",
    "            cate_texts = [x.text.strip() for x in cate_list]\n",
    "            category = ' '.join(cate_texts)\n",
    "        except:\n",
    "            category = '없음'\n",
    "        book['카테고리'] = category\n",
    "\n",
    "        # 책소개\n",
    "        try:\n",
    "            ex1 = soup.select_one('.title_detail_basic2').get_text().strip()\n",
    "            ex2 = soup.select_one('.box_detail_article').get_text().strip()\n",
    "            try:\n",
    "                ex3_a = soup.select_one('.box_detail_comment').get_text().strip()\n",
    "                ex3 = re.sub('[\\\\n|\\\\t]{2,}', ' ', ex3_a)\n",
    "                total_ex = ex1 + '\\n\\n'+ ex2 + '\\n\\n' + ex3\n",
    "            except:\n",
    "                total_ex = ex1 + '\\n\\n'+ ex2\n",
    "        except:\n",
    "            total_ex = '없음'\n",
    "        book['책소개'] = total_ex\n",
    "        \n",
    "        # 저자 소개\n",
    "        try:\n",
    "            box_author = soup.select_one('.box_author')\n",
    "            authors_el = box_author.find_all('div', attrs={'class':'content', 'style':'display:none;'})\n",
    "            author_intro = authors_el[0].text.replace('\\t', '').replace('닫기', '').strip()  \n",
    "        except:\n",
    "            author_intro = '없음'\n",
    "        book['저자소개'] = author_intro\n",
    "        \n",
    "        # 추천사\n",
    "        try:\n",
    "            recommend_el = soup.select_one('.box_detail_recommend')\n",
    "            recommenders = [x.text.strip() for x in recommend_el.find_all('h3')]\n",
    "            comments_el = recommend_el.find_all('div', {'class' : 'content'})\n",
    "            comments = [x.text.replace('\\t', '').replace('닫기', '').strip().replace('\\n\\n\\n', '\\n') for x in comments_el[1::2]]\n",
    "        except:\n",
    "            comments = '없음없음'\n",
    "        book['추천사'] = comments\n",
    "            \n",
    "        # 목차, 책속으로, 출판사서평\n",
    "        table_contents = '없음'\n",
    "        book_inside = '없음'\n",
    "        publisher_review = '없음'\n",
    "\n",
    "        for tag in spec_tags:\n",
    "            # 목차\n",
    "            if str(tag.previous_element.previous_element) == '목차':\n",
    "                try:\n",
    "                    table_contents = tag.get_text().strip().replace('\\n\\n', '\\n')\n",
    "                except:\n",
    "                    table_contents = '없음'\n",
    "            book['목차'] = table_contents\n",
    "\n",
    "            # 책속으로\n",
    "            if str(tag.previous_element.previous_element) == '책 속으로':\n",
    "                try:\n",
    "                    inside_book = tag.get_text().strip().replace('\\n\\n', '\\n').replace('\\t', '').replace('\\n닫기', '')\n",
    "                    useless_start = inside_book.find('더보기')\n",
    "                    book_inside = inside_book[useless_start+5:]\n",
    "                except:\n",
    "                    book_inside = '없음'\n",
    "            book['책속으로'] = book_inside\n",
    "\n",
    "            # 출판사리뷰\n",
    "            if str(tag.previous_element.previous_element) == '출판사 서평':\n",
    "                try:\n",
    "                    publisher_reviews = tag.get_text().replace('\\n\\n', '\\n').replace('\\t', '').replace('\\n닫기', '')\n",
    "                    useless_start = publisher_reviews.find('더보기')\n",
    "                    publisher_review = publisher_reviews[useless_start+5:]\n",
    "                except:\n",
    "                    publisher_review = '없음'\n",
    "            book['출판사리뷰'] = publisher_review\n",
    "    except:\n",
    "        return book\n",
    "        \n",
    "    return book"
   ]
  },
  {
   "cell_type": "code",
   "execution_count": 3,
   "metadata": {
    "ExecuteTime": {
     "end_time": "2021-04-12T00:26:14.723631Z",
     "start_time": "2021-04-12T00:26:07.208934Z"
    },
    "scrolled": true
   },
   "outputs": [
    {
     "data": {
      "text/plain": [
       "{'isbn': '9788970127248',\n",
       " '제목': '총 균 쇠',\n",
       " '저자': '재레드 다이아몬드',\n",
       " '역자': '김진준',\n",
       " '별점': '9.1',\n",
       " '리뷰': '555',\n",
       " '카테고리': '역사/문화 > 역사일반 > 문명/문명사',\n",
       " '책소개': '인류문명의 불균형은 총, 균, 쇠 때문이다!\\n\\n퓰리처상을 수상한 세계적 석학 재레드 다이아몬드 박사의 『총, 균, 쇠』. ‘왜 어떤 민족들은 다른 민족들의 정복과 지배의 대상으로 전락하고 말았는가?’, ‘왜 각 대륙들마다 문명의 발달 속도에 차이가 생겨났는가?’, ‘인간 사회의 다양한 문명은 어디에서 비롯되었는가?’라는 의문을 명쾌하게 분석하여 그 해답을 제시한다. 특별 증보면 ‘일본인은 어디에서 왔는가’를 추가 수록하여 현대 일본인의 조상이 누구인지를 추적한다.\\n\\n\\n이 책은 모든 인류가 수렵과 채집으로 살아가던 1만 3천 년 전 석기시대로 거슬러 올라간다. 저자는 제국, 지역, 문자, 농작물, 총의 기원뿐만 아니라 각 대륙의 인류 사회가 각기 다른 발전의 길을 걷게 된 원인을 설득력 있게 설명함으로써, 역사에 대한 인종주의적 이론의 허구를 벗겨낸다. 뉴기니와 아메리카 원주민에서부터 현대 유럽인과 일본인에 이르기까지, 세계 각지의 인간 생활에 관한 이야기를 흥미진진하게 풀어낸다.\\n\\n북소믈리에 한마디! 저자는 민족마다 역사가 다르게 진행된 것은 각 민족의 생물학적 차이 때문이 아닌, 환경적 차이 때문이라고 이야기한다. 다시 말해, 선사시대로부터 환경적으로 유리한 지역에서 살게 된 ‘우연’이 오늘날 문명의 우열을 가리게 되었다는 것이다. 따라서 다이아몬드는 남북아메리카와 아프리카 남단의 원주민과 유라시아의 민족들이 선사시대 때부터 거주 지역이 바뀌었더라면 오늘날의 사정은 정반대가 되었을 것으로 단정하는 등 인류의 역사와 문명을 분석하는 데 있어 흥미롭고 의미 있는 관점을 제시한다.',\n",
       " '저자소개': '저자 재레드 다이아몬드(Jared Diamond)는 퓰리처 상을 수상한 세계적 석학. 케임브리지 대학에서 생리학 박사 학위를 취득한 저자는 현재 캘리포니아 주립대(UCLA) 교수로 재직중이다. 생리학으로 과학 인생을 시작한 그는 조류학, 진화생물학, 생물지리학으로 자신의 영역을 점점 확장해 나갔으며 라틴어, 그리스어, 독일어, 프랑스어, 러시아어 등 수개국어를 구사한다. 진화생물학이나 인류학에 관해 《디스커버Discover》 《네이처Nature》 《내추럴 히스토리Natural History》 등에 방대한 지식을 바탕으로 하는 폭넓으면서도 깊이 있는 글들을 기고하여 독자들의 사랑을 받았다. 저서《제3의 침팬지》로 과학의 대중화에 기여한 공로로 수여되는 영국의 과학출판상과 미국의 LA타임스 출판상을 수상했다. 또한 그는 미국예술과학아카데미, 미국과학아카데미, 미국철학협회 회원으로 선정되었으며 미국지리학회에서 주는 상을 수상하기도 했다. 《총, 균, 쇠》는 1998년 퓰리처 상 일반 논픽션 부문과 영국의 과학출판상을 수상한 책으로 인류 문명이 대륙별, 민족별로 불평등해진 원인을 다각적인 시각에서 명쾌하게 분석하고 있다. 그 밖의 저서로 《제3의 침팬지The Third Chimpanzee》《섹스의 진화Why is Sex Fun》《문명의 붕괴Collapse》 등이 있다.',\n",
       " '추천사': ['인류 역사와 문명 분석에 흥미로운 관점 제시 \\n《제3의 침팬지》에서 인류의 진화 과정을 분석한 끝에 전쟁과 환경 파괴 등 인간이 지닌 공격성과 폭력성에 대해 엄중한 경고를 보냈던 저자는 《총, 균, 쇠》에서는 오늘날 세계에 존재하는 문명의 불평등의 원인을 생태지리학, 생태학, 유전학, 병리학, 문화인류학, 언어학 등의 접근을 통해 종합적으로 규명, 인류 역사와 문명 분석에 흥미로운 관점을 제시했다.',\n",
       "  '13000년에 걸친 인류 역사의 기원을 경이로운 설득력으로 제시 \\n이 책은 13000년에 걸친 이채롭고 열정적인 회오리바람의 역사 여행이다. 제국, 지역, 문자, 농작물 그리고 총의 기원뿐만 아니라 각 대륙의 인류 사회가 각기 다른 발전의 길을 걷게 된 원인을 설득력 있게 설명함으로써, 역사에 대한 인종주의자들의 이론 기반을 무너뜨린다. 현대 세계가 어떻게 형성되었는가에 대한 설명들은 우리 미래를 위한 값진 교훈들로 가득 차 있다. 한두 장 읽어 본 독자들은 손에서 책을 놓지 못할 것이다.',\n",
       "  '능숙한 정보 활용, 강렬한 호소력 지닌 명저 \\n‘인간 사회는 왜 서로 다른 운명을 지니게 되었는가?’라는 질문에는 흔히 인종주의적인 답변이 따랐다. 다이아몬드 교수는 많은 다른 연구 분야의 정보들을 능숙하게 활용함으로써, 각 사회가 출발선상에서 지니게 된 우위와 지역적 조건들을 통해 인류 역사 과정을 설명하고 있다. 그의 인상적인 설명은 독자들에게 강렬한 호소력을 지닐 것이다.',\n",
       "  '인종적, 민족적 차이를 다루 이론에 대한 완벽한 방어 이론 \\n인종적ㆍ민족적 차이를 다룬 이론에 대한 완벽한 방어 이론이다. 지리학, 식물학, 동물학, 고고학, 역사학에 두루 접근한 다이아몬드 교수는 인류의 다양성은 역사적 과정의 결과이지 지력知力의 차이에서 오는 것은 아니라는 사실을 보여준다.'],\n",
       " '목차': \"친애하는 한국의 독자들에게 드리는 편지 | 제레드 다이아몬드 \\n증보판에 부쳐 | 일본인의 조상은 한민족인가 - 임홍빈(<문학사상> 편집 고문)\\n추천의 글 | 1998년 퓰리처 상을 수상한 명저 <총, 균, 쇠>의 진가 - 이현복(서울대 언어학과 명예 교수)\\n옮긴이의 글 | 인류 문명의 불평등에 관한 수수께끼 풀이 - 김진준(번역 문학가)\\n\\n프롤로그_ 현대 세계와 불평등에 대한 의문을 푼다 \\n\\n제1부 인간 사회의 다양한 운명의 갈림길\\n제1장 문명이 싹트기 직전의 세계 상황 \\n제2장 환경 차이가 다양화를 빚어 낸 모델 폴리네시아 \\n제3장 유럽이 세계를 정복한 힘의 원천 \\n\\n제2부 식량 생산의 기원과 문명의 교차로\\n제4장 식량 생산의 기원 \\n제5장 인류 역사가 갈라놓은 유산자와 무산자 \\n제6장 식량 생산민과 수렵 채집민의 경쟁력 차이 \\n제7장 야생 먹거리의 작물화 \\n제8장 작물화하는 데 적합한 식물의 식별과 성패의 원인 \\n제9장 선택된 가속화와 '안나 카레니나의 법칙' \\n제10장 대륙의 축으로 돈 역사의 수레바퀴 \\n\\n제3부 지배하는 문명, 지배받는 문명\\n제11장 가축의 치명적 대가, 세균이 준 사악한 선물 \\n제12장 식량 생산 창시와 문자 고안과의 밀접한 연관 \\n제13장 발명은 필요의 어머니\\n제14장 평등주의부터 도둑 정치까지 \\n\\n제4부 인류사의 발전적 연구 과제와 방향\\n제15장 대륙간 불균형 이론과 원주민들이 낙후된 원인 \\n제16장 동아시아의 운명과 중국 문화의 확산 \\n제17장 동아시아와 태평양 민족의 충돌 \\n제18장 남북아메리카가 유라시아보다 낙후됐던 원인 \\n제19장 아프리카는 왜 흑인의 천지가 됐는가 \\n\\n에필로그_ 과학으로서의 인류사의 미래\\n\\n특별 증보면\\n추가 논문_ 일본인은 어디에서 왔는가\\n2003 후기_ <총, 균, 쇠> 그 후의 이야기 \\n\\n참고문헌 \\n찾아보기\",\n",
       " '책속으로': '없음',\n",
       " '출판사리뷰': \"▶ 인종주의적 설명 방식을 뒤집는, 문명 발전에 관한 새로운 보고서 \\n왜 어떤 민족들은 다른 민족들의 정복과 지배의 대상으로 전락하고 말았는가. 왜 원주민들은 유라시아인들에 의해 도태되고 말았는가. 왜 각 대륙들마다 문명의 발달 속도에 차이가 생겨났는가. “인간 사회의 다양한 문명은 어디서 비롯되는가?”라는 의문을 명쾌하게 분석한 명저! \\n진화생물학자인 재레드 다이아몬드는 1998년 퓰리처 상을 수상한 이 역저에서 광범위하게 나타난 역사의 경향을 실제로 만들어낸 환경적 요소들을 밝힘으로써, 인종주의적 이론의 허구를 벗겨낸다. 그는 뉴기니 원주민과 아메리카 원주민에서부터 현대 유럽인과 일본인에 이르기까지 세계 각지의 인간 생활에 관한 이야기를 흥미진진하게 이끌어나간다. \\n\\n▶ 환경이 불러온 대륙 간 발달 속도 차이 \\n이야기는 모든 인류가 아직 수렵과 채집으로 살아가던 13000년 전 석기 시대로 거슬러 올라간다. 그때부터 각 대륙에 살고 있던 인류 사회들은 서로 다른 길을 걷기 시작했다. 비옥한 초승달 지대, 중국, 중앙아메리카, 미국 동남부와 그 밖의 다른 지역에서 야생 동식물을 일찍부터 가축화?작물화한 사실은 그 지역 민족들이 다른 민족들보다 앞설 수 있는 중요한 요소가 되었다. 왜 밀과 옥수수, 소와 돼지, 그리고 현대의 주요 작물이 된 농작물과 가축들은 특정 지역에서만 작물화?가축화되었을까? 이 책은 그 원인이 관습도, 인종차도 아닌 환경임을 밝힌다. \\n\\n▶ 총기와 병균과 금속이 역사에 미친 엄청난 영향 \\n일단 수렵 채집 단계를 넘어서 농경을 하게 된 사회들은 문자와 기술, 정부, 제도뿐만 아니라 사악한 병원균과 강력한 무기들도 개발할 수 있었다. 그러한 사회들은 질병과 무기의 도움으로 다른 민족들을 희생시키며 자신들의 삶의 터전을 새로운 지역으로 확장했다. 지난 500여 년간 유럽인이 자행한 비유럽인 정복은 이러한 과정을 극적으로 보여주는 예다. 유럽인이 아메리카 대륙에 들어간 후 질병과 전쟁으로 95%의 원주민이 죽고 만 것이다. 일단 앞서게 된 유라시아 대륙은 지금도 세계를 경제적, 정치적으로 지배하고 있으며, 앞으로 이러한 상황이 뒤집힐 가능성은 희박하다고 저자는 말한다. \\n\\n특별 증보면 <일본인은 어디에서 왔는가> 추가 수록! \\n“일본인은 누구이며, 언제 어디에서 일본으로 건너온 사람들인가” \\n\\n재레드 다이아몬드는 이번 《총, 균, 쇠》의 증보된 지면을 통해 현대 일본인의 조상이 누구인지를 추적한다. \\n\\n일본인의 기원에 대한 학설은 크게 세 가지로 나뉜다. 고대 일본의 조몬인이 진화했다는 주장, 한국인의 대규모 이동의 결과로 유전적·문화적으로 형성된 야요이인의 후손이라는 주장, 한국에서의 이주는 인정하지만 그것은 소규모였을 뿐이라는 절충적 주장이 그것이다. 이 중 저자는 규모는 명확하지 않지만 한국인의 이주가 분명 현대 일본인에게 막대한 영향을 미쳤다는 쪽에 손을 든다. \\n그 첫 번째 근거는 유전자 분석이다. 현대 일본인의 유전자를 분석했을 때 한국인과 야요이인의 비율이 조몬인 유전자 비율보다 우세하다. 두 번째 근거는 언어다. 사실 일본어와 한국어는 큰 차이를 보이기 때문에 이는 한국인 기원설은 반박하는 증거로 더 많이 쓰인다. 그러나 저자는 현대 한국어는 신라어에서 비롯됐다는 사실에 주목한다. 일본은 신라와는 그리 긴밀한 관계를 갖지 않았기 때문이다. 고대 삼국시대의 한국어는 현재보다 훨씬 다양했으며, 일부 전해지는 고구려 단어는 한국어보다 오히려 일본어와 비슷하다. \\n결국 이러한 모든 사실에 비춰볼 때 한국과 일본은 성장기를 함께 보낸 쌍둥이와도 같다고 저자는 말한다. 동아시아의 평화는 양국이 고대에 쌓았던 것과 같은 유대를 재발견할 때 비로소 찾을 수 있다는 얘기다. \\n\\n왜 어떤 민족들은 정복과 지배의 대상으로 전락하고 말았는가. 왜 원주민들은 유라시아인들에게 도태되고 말았는가. 왜 각 대륙들마다 문명의 발달 속도에 차이가 생겨났을까. \\n\\n'제3의 침팬지'의 ‘인류는 과연 멸망하고 말 것인가’에 이어 두 번째로 제시한 질문 “인간 사회의 다양한 문명은 어디서 비롯되는가?”를 명쾌하게 분석한 명저! 인종·민족에 기반을 둔 인류 발전의 기존 개념을 뒤집는 새로운 문명 생성 보고서!유라시아인들은 왜 아메리카, 오스트레일리아, 아프리카 원주민들에게 정복당하지 않고, 반대로 그들을 정복하고 학살할 수 있었을까? \\n\\n진화생물학자인 재레드 다이아몬드는 이 전대미문의 역저에서 역사적으로 나타난 광범위한 경향을 실제로 이끌고 있는 환경적 요소들을 밝힘으로써, 인종주의적 이론의 허구를 벗겨 내고 있다. 여기에 마침내 하나의 세계사가 등장한다. 그것은 진정 세계 모든 민족들의 역사이며, 공룡이나 빙하에 관한 이야기보다 더 중요하고 흥미진진한 인간 생활에 관한 설득력 있는 이야기들을 다루고 있다. 이야기는 수렵 채집민들이 전인류를 이루고 있던 석기시대인 1만 3,000년 전으로 거슬러 올라간다. \\n\\n그때부터 각 대륙에 살고 있던 인류 사회들은 서로 다른 발전의 길을 걷기 시작했다. 비옥한 초승달 지대, 중국, 중앙아메리카, 미국 동남부와 그 밖의 다른 지역에서 야생 동식물을 일찍부터 가축화 작물화한 사실은 그 지역 민족들이 다른 민족들보다 앞설 수 있는 중요한 시발점이 되었다. \\n\\n왜 밀과 옥수수, 소와 돼지, 그리고 현대의 주요 재배 작물이 되고 있는 농작물과 가축들은 특정 지역에서만 자라게 되었을까?수렵 채집 단계를 넘어 선진화된 사회들은 문자와 기술, 정부 형태, 조직화된 지역들의 형태뿐만 아니라 사악한 병원균과 강력한 무기들도 개발할 수 있었다. \\n\\n또한, 이들 사회는 바다와 육지에서 모험을 하고 대량학살이나 질병의 유입을 통해 다른 민족들을 희생시키면서 자신들의 삶의 터전을 새로운 영토로까지 확장했다. 가장 잘 알려진 예로는, 지난 500년 동안 행해진 유럽인들의 비유럽인에 대한 정복을 들 수 있으며 이와 유사한 주민 교체는 동남아시아와 사하라 이남 아프리카와 그 밖의 지역에서도 발생했다. 그렇다면 이 모든 일들이 발생하게 된 원인들은 무엇일까? 왜 역사는 그 반대 방향으로 흐를 수 없었을까? \\n\\n[총, 균, 쇠]는 인류 사회를 이해하는 데 있어 획기적인 진보라 할 수 있는 역저로서, 현대 세계와 그 불평등이 어떻게 나타나게 되었는가를 연대기적으로 보여 주며, 기존의 인습적인 지식에 도전해 수많은 극적인 사실들을 드러냄으로써 독자들을 사로잡고 있다.\\n\"}"
      ]
     },
     "execution_count": 3,
     "metadata": {},
     "output_type": "execute_result"
    }
   ],
   "source": [
    "isbn = '9788970127248'\n",
    "parse_kyobo(isbn)"
   ]
  },
  {
   "cell_type": "markdown",
   "metadata": {},
   "source": [
    "# csv파일 불러오기 & 크롤링"
   ]
  },
  {
   "cell_type": "code",
   "execution_count": 3,
   "metadata": {
    "ExecuteTime": {
     "end_time": "2021-04-13T00:23:09.684360Z",
     "start_time": "2021-04-13T00:23:07.589513Z"
    }
   },
   "outputs": [
    {
     "name": "stderr",
     "output_type": "stream",
     "text": [
      "/home/ubuntu/anaconda3/envs/pytorch_p36/lib/python3.6/site-packages/IPython/core/interactiveshell.py:2785: DtypeWarning: Columns (1) have mixed types. Specify dtype option on import or set low_memory=False.\n",
      "  interactivity=interactivity, compiler=compiler, result=result)\n"
     ]
    },
    {
     "data": {
      "text/plain": [
       "2872189"
      ]
     },
     "execution_count": 3,
     "metadata": {},
     "output_type": "execute_result"
    }
   ],
   "source": [
    "book_specs = pd.read_csv('./book_spec_korean_isbns.csv')\n",
    "isbns = book_specs.loc[:, '0'].tolist()\n",
    "\n",
    "len(isbns)"
   ]
  },
  {
   "cell_type": "code",
   "execution_count": null,
   "metadata": {
    "ExecuteTime": {
     "start_time": "2021-04-13T00:23:18.700Z"
    }
   },
   "outputs": [
    {
     "data": {
      "application/vnd.jupyter.widget-view+json": {
       "model_id": "946e1fbba02744f3ad92012459268c71",
       "version_major": 2,
       "version_minor": 0
      },
      "text/plain": [
       "HBox(children=(FloatProgress(value=0.0, max=10000.0), HTML(value='')))"
      ]
     },
     "metadata": {},
     "output_type": "display_data"
    },
    {
     "name": "stdout",
     "output_type": "stream",
     "text": [
      "saving 281000th results to kyobo_281000_287,000.csv\n",
      "saving 282000th results to kyobo_282000_287,000.csv\n",
      "saving 283000th results to kyobo_283000_287,000.csv\n"
     ]
    }
   ],
   "source": [
    "num = 290000\n",
    "count_save = num - 10000\n",
    "results = []\n",
    "for isbn in tqdm(isbns[num-10000:num]):\n",
    "    time.sleep(1)\n",
    "    try:\n",
    "        result = parse_kyobo(isbn)\n",
    "        results.append(result)\n",
    "    except:\n",
    "        result = {'isbn' : isbn,\n",
    "                  '제목' : '없음',\n",
    "                  '저자' : '없음',\n",
    "                  '역자' : '없음',\n",
    "                  '별점' : '없음',\n",
    "                  '리뷰' : '없음',\n",
    "                  '카테고리' : '없음',\n",
    "                  '책소개' : '없음',\n",
    "                  '저자소개' : '없음',\n",
    "                  '추천사' : '없음',\n",
    "                  '목차' : '없음',\n",
    "                  '책속으로' : '없음',\n",
    "                  '출판사리뷰' : '없음'\n",
    "                 }\n",
    "        results.append(result)\n",
    "\n",
    "    count_save += 1\n",
    "    \n",
    "    if count_save % 1000 == 0:\n",
    "        file_name = f'kyobo_{count_save}_287,000.csv'\n",
    "        results_df = pd.DataFrame(results)\n",
    "        results_df.to_csv('./crawled_csv/' + file_name, encoding='utf-8-sig')\n",
    "        results = []\n",
    "        print(f'saving {count_save}th results to {file_name}')"
   ]
  },
  {
   "cell_type": "code",
   "execution_count": null,
   "metadata": {},
   "outputs": [],
   "source": []
  }
 ],
 "metadata": {
  "hide_input": false,
  "kernelspec": {
   "display_name": "Python 3",
   "language": "python",
   "name": "python3"
  },
  "language_info": {
   "codemirror_mode": {
    "name": "ipython",
    "version": 3
   },
   "file_extension": ".py",
   "mimetype": "text/x-python",
   "name": "python",
   "nbconvert_exporter": "python",
   "pygments_lexer": "ipython3",
   "version": "3.6.5"
  },
  "toc": {
   "base_numbering": 1,
   "nav_menu": {},
   "number_sections": true,
   "sideBar": true,
   "skip_h1_title": false,
   "title_cell": "Table of Contents",
   "title_sidebar": "Contents",
   "toc_cell": false,
   "toc_position": {},
   "toc_section_display": true,
   "toc_window_display": false
  },
  "varInspector": {
   "cols": {
    "lenName": 16,
    "lenType": 16,
    "lenVar": 40
   },
   "kernels_config": {
    "python": {
     "delete_cmd_postfix": "",
     "delete_cmd_prefix": "del ",
     "library": "var_list.py",
     "varRefreshCmd": "print(var_dic_list())"
    },
    "r": {
     "delete_cmd_postfix": ") ",
     "delete_cmd_prefix": "rm(",
     "library": "var_list.r",
     "varRefreshCmd": "cat(var_dic_list()) "
    }
   },
   "types_to_exclude": [
    "module",
    "function",
    "builtin_function_or_method",
    "instance",
    "_Feature"
   ],
   "window_display": false
  }
 },
 "nbformat": 4,
 "nbformat_minor": 5
}
