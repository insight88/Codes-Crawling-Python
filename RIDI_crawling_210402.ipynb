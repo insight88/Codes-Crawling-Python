{
 "cells": [
  {
   "cell_type": "markdown",
   "id": "e7e6ac95",
   "metadata": {},
   "source": [
    "# 패키지 불러오기"
   ]
  },
  {
   "cell_type": "code",
   "execution_count": 1,
   "id": "35170a07",
   "metadata": {
    "ExecuteTime": {
     "end_time": "2021-04-19T06:33:33.629890Z",
     "start_time": "2021-04-19T06:33:29.790823Z"
    }
   },
   "outputs": [
    {
     "name": "stdout",
     "output_type": "stream",
     "text": [
      "Mozilla/5.0 (Windows NT 5.1) AppleWebKit/537.36 (KHTML, like Gecko) Chrome/35.0.3319.102 Safari/537.36\n"
     ]
    }
   ],
   "source": [
    "# 패키지 불러오기\n",
    "\n",
    "import requests\n",
    "import bs4\n",
    "from bs4 import BeautifulSoup\n",
    "import os\n",
    "import random\n",
    "import hashlib\n",
    "import urllib.request\n",
    "import urllib\n",
    "from urllib.parse import urlparse, urlencode, parse_qs\n",
    "import pandas as pd\n",
    "import csv\n",
    "import re\n",
    "\n",
    "from datetime import datetime, timedelta\n",
    "from urllib import parse\n",
    "import time\n",
    "import requests\n",
    "import numpy as np\n",
    "import json\n",
    "from random import *\n",
    "from tqdm.notebook import tqdm\n",
    "\n",
    "from selenium import webdriver\n",
    "from selenium.webdriver.firefox.options import Options\n",
    "from fake_useragent import UserAgent\n",
    "\n",
    "from selenium.webdriver import ActionChains\n",
    "from selenium.webdriver.common.keys import Keys\n",
    "from selenium.webdriver.common.by import By\n",
    "from selenium.webdriver.support import expected_conditions as EC\n",
    "from selenium.webdriver.support.ui import WebDriverWait\n",
    "from selenium.common.exceptions import NoSuchElementException\n",
    "from selenium.common.exceptions import StaleElementReferenceException\n",
    "from selenium.common.exceptions import TimeoutException\n",
    "from selenium.common.exceptions import UnexpectedAlertPresentException\n",
    "\n",
    "ua = UserAgent()\n",
    "userAgent = ua.random\n",
    "print(userAgent)\n",
    "\n",
    "options = Options()\n",
    "options.add_argument(f\"user-agent={userAgent}\")\n",
    "options.add_argument('--headless')\n",
    "options.add_argument('--no-sandbox')\n",
    "options.add_argument('--disable-dev-shm-usage')\n",
    "options.add_argument('--ignore-certificate-errors')\n",
    "options.add_argument('--incognito')\n",
    "options.add_argument('--proxy-server=socks5h://localhost:9050')\n",
    "\n",
    "executable_path = '/home/book_crawling/geckodriver' # chrome driver의 경로\n",
    "driver = webdriver.Firefox(executable_path=executable_path, options=options)"
   ]
  },
  {
   "cell_type": "markdown",
   "id": "5809774c",
   "metadata": {},
   "source": [
    "# 검색어 쿼리 생성 함수"
   ]
  },
  {
   "cell_type": "code",
   "execution_count": 2,
   "id": "65fd1c9e",
   "metadata": {
    "ExecuteTime": {
     "end_time": "2021-04-19T06:33:34.294082Z",
     "start_time": "2021-04-19T06:33:34.290224Z"
    }
   },
   "outputs": [],
   "source": [
    "def query_generate(orig_title):\n",
    "    proc_sam = re.sub('[/(|\\)|\\[|\\]|<\\>『|』|\\`|“|”|:|,|!|?|·|\\\"]', ' ', orig_title)\n",
    "    proc_sampl = re.sub('\\[.*\\]', '', proc_sam)\n",
    "    proc_sample = re.sub('\\(.*\\)', '', proc_sampl)\n",
    "    proc_space = re.sub('\\s+', ' ', proc_sample)\n",
    "    arr = proc_space.split(' ')\n",
    "    if len(arr) >= 5: \n",
    "        query = '+'.join(arr[:5])\n",
    "    else:\n",
    "        query = '+'.join(arr)\n",
    "    if query[0] == '+':\n",
    "        query = query[1:]\n",
    "    if query[-1] == '+':\n",
    "        query = query[:-1]\n",
    "    return query, orig_title"
   ]
  },
  {
   "cell_type": "markdown",
   "id": "34084079",
   "metadata": {},
   "source": [
    "# Ridi 책 정보 크롤링 함수"
   ]
  },
  {
   "cell_type": "code",
   "execution_count": 3,
   "id": "f7cd73a4",
   "metadata": {
    "ExecuteTime": {
     "end_time": "2021-04-19T06:33:35.616983Z",
     "start_time": "2021-04-19T06:33:35.603769Z"
    },
    "code_folding": []
   },
   "outputs": [],
   "source": [
    "def ridi_crawl(title):\n",
    "    \n",
    "    book = {'제목' : title,\n",
    "            '저자' : '없음',\n",
    "            '출판사' : '없음',\n",
    "            '총권수' : '없음',\n",
    "            '완결여부' : '없음',\n",
    "            '출간정보' : '없음',\n",
    "            '파일정보' : '없음',\n",
    "            'isbn' : '없음',\n",
    "            '책소개' : '없음',\n",
    "            '목차' : '없음',\n",
    "            '별점' : '없음'\n",
    "           }\n",
    "    \n",
    "    query = query_generate(title)[0]\n",
    "    search_page = f'https://ridibooks.com/search/?q={query}'\n",
    "    driver.get(search_page)\n",
    "    driver.implicitly_wait(3)\n",
    "    \n",
    "    try:\n",
    "        title = driver.find_element_by_tag_name('h3')\n",
    "    except:\n",
    "        return book\n",
    "    \n",
    "    link = title.find_element_by_tag_name('a')\n",
    "    item_page = link.get_attribute('href')\n",
    "    driver.get(item_page)\n",
    "    soup = BeautifulSoup(driver.page_source, 'html.parser')\n",
    "    \n",
    "    # 제목\n",
    "    a = soup.select_one('meta[property=\"og:title\"]')\n",
    "    try:\n",
    "        title = a['content']\n",
    "    except:\n",
    "        title = '없음'\n",
    "\n",
    "    # 저자\n",
    "    b = soup.select_one('.metadata.metadata_writer')\n",
    "    try:\n",
    "        author = b.text.replace('저', '').strip()\n",
    "    except:\n",
    "        author = '없음'\n",
    "\n",
    "    # 출판사\n",
    "    c = soup.select_one('.metadata.file_info.publisher_info')\n",
    "    try:\n",
    "        pub = c.text.replace('출판', '').strip()\n",
    "    except:\n",
    "        pub = '없음'\n",
    "\n",
    "    # 총권수\n",
    "    try:\n",
    "        d = soup.select_one('.metadata_item.book_count')\n",
    "        total = d.text.replace('출판', '').strip()\n",
    "    except:\n",
    "        total = '없음'\n",
    "\n",
    "    # 완결여부\n",
    "    try:\n",
    "        e = soup.select_one('.metadata_item.complete')\n",
    "        complete = e.text.strip()\n",
    "    except:\n",
    "        complete = '없음'\n",
    "\n",
    "    # 출간정보\n",
    "    f = soup.select_one('.Header_Metadata_Item.book_info.published_date_info')\n",
    "    try:\n",
    "        pub_info = f.ul.text.replace('\\n', '').strip()\n",
    "    except:\n",
    "        pub_info = '없음'\n",
    "\n",
    "    # 파일정보\n",
    "    try:\n",
    "        g = f.next_sibling\n",
    "        try:\n",
    "            file_info = g.text.replace('정보', '정보 ').replace('평균', ' 평균').replace('EPUB', 'EPUB ').replace('MB', 'MB ')\n",
    "        except:\n",
    "            file_info = '없음'\n",
    "    except:\n",
    "        file_info = '없음'\n",
    "\n",
    "    # ISBN\n",
    "    try:\n",
    "        h = g.next_sibling\n",
    "        try:\n",
    "            isbn = h.text.replace('ISBN', '')\n",
    "        except:\n",
    "            isbn = '없음'\n",
    "    except:\n",
    "        isbn = '없음'\n",
    "\n",
    "    # 책소개\n",
    "    try:\n",
    "        book_intro = soup.select_one('.introduce_paragraph').text\n",
    "    except:\n",
    "        book_intro = '없음'\n",
    "\n",
    "    # 목차\n",
    "    try:\n",
    "        table = soup.select_one('.detail_box_module.detail_book_table').text\n",
    "    except:\n",
    "        table = '없음'\n",
    "    \n",
    "    # 별점\n",
    "    try:\n",
    "        star = soup.select_one('.StarRate_Score').text.replace('점', '')\n",
    "    except:\n",
    "        star = '없음'\n",
    "        \n",
    "    book = {'제목' : title,\n",
    "            '저자' : author,\n",
    "            '출판사' : pub,\n",
    "            '총권수' : total,\n",
    "            '완결여부' : complete,\n",
    "            '출간정보' : pub_info,\n",
    "            '파일정보' : file_info,\n",
    "            'isbn' : isbn,\n",
    "            '책소개' : book_intro,\n",
    "            '목차' : table,\n",
    "            '별점' : star\n",
    "           }\n",
    "        \n",
    "    return book"
   ]
  },
  {
   "cell_type": "markdown",
   "id": "70b888b6",
   "metadata": {},
   "source": [
    "# 샘플 데이터 크롤링"
   ]
  },
  {
   "cell_type": "code",
   "execution_count": 6,
   "id": "8325d0b8",
   "metadata": {
    "ExecuteTime": {
     "end_time": "2021-04-19T06:33:50.866221Z",
     "start_time": "2021-04-19T06:33:46.051455Z"
    },
    "scrolled": false
   },
   "outputs": [
    {
     "data": {
      "text/plain": [
       "{'제목': '[코믹] 29세 독신은 이세계에서 자유롭게 살고…… 싶었다 1권',\n",
       " '저자': '오오하마이코           그림류토           원작',\n",
       " '출판사': '시프트코믹스',\n",
       " '총권수': '총 3권',\n",
       " '완결여부': '없음',\n",
       " '출간정보': '2020.06.04. 출간',\n",
       " '파일정보': '파일 정보  평균 125.9MB 184쪽',\n",
       " 'isbn': '9791165800161',\n",
       " '책소개': '<[코믹] 29세 독신은 이세계에서 자유롭게 살고…… 싶었다> 29세 독신 미츠바 타이시는, 어느 날 갑자기 판타지 세계로!? \\n어리둥절하면서도, 젊어진 육체와 치트 능력을 얻어 이 이세계를 자유롭게 살겠다!\\n...라고 생각했으나…!? 거기서 만난, 미소녀 마르와의 알콩달콩하고, 말썽도 있는 이세계 생활이 시작된다!!\\n\\n*본 작품의 적정 열람 연령은 15세 이상입니다.',\n",
       " '목차': '\\n\\n목차\\n\\n\\n프롤로그\\n제1화\\n제2화\\n제3화\\n제4화\\n제5화\\n펼쳐보기 \\n\\n',\n",
       " '별점': '3.9'}"
      ]
     },
     "execution_count": 6,
     "metadata": {},
     "output_type": "execute_result"
    }
   ],
   "source": [
    "ridi_crawl(titles[55])"
   ]
  },
  {
   "cell_type": "markdown",
   "id": "fa0807e6",
   "metadata": {},
   "source": [
    "# 대량 크롤링"
   ]
  },
  {
   "cell_type": "markdown",
   "id": "3e019bea",
   "metadata": {},
   "source": [
    "input_csv_path : 크롤링할 서명 리스트 파일\n",
    "\n",
    "output_csv_path : 크롤링 결과 csv 파일"
   ]
  },
  {
   "cell_type": "code",
   "execution_count": 5,
   "id": "c68402da",
   "metadata": {
    "ExecuteTime": {
     "end_time": "2021-04-19T06:33:42.716146Z",
     "start_time": "2021-04-19T06:33:42.703531Z"
    }
   },
   "outputs": [],
   "source": [
    "input_csv_path = './0419_ridi.csv'\n",
    "output_csv_path = './ridi_search_result.csv'\n",
    "\n",
    "books_csv = pd.read_csv(input_csv_path, encoding='utf-8', error_bad_lines=False)\n",
    "titles = books_csv.서명.tolist()"
   ]
  },
  {
   "cell_type": "code",
   "execution_count": 7,
   "id": "23ba38a6",
   "metadata": {
    "ExecuteTime": {
     "end_time": "2021-04-19T07:22:42.519522Z",
     "start_time": "2021-04-19T06:33:55.953251Z"
    },
    "scrolled": true
   },
   "outputs": [
    {
     "data": {
      "application/vnd.jupyter.widget-view+json": {
       "model_id": "d930e207eb0a4a7ead124cdcdd7e6cb7",
       "version_major": 2,
       "version_minor": 0
      },
      "text/plain": [
       "  0%|          | 0/700 [00:00<?, ?it/s]"
      ]
     },
     "metadata": {},
     "output_type": "display_data"
    }
   ],
   "source": [
    "ridi_data = []\n",
    "for title in tqdm(titles):\n",
    "    time.sleep(2)\n",
    "    result = ridi_crawl(title)\n",
    "    ridi_data.append(result)\n",
    "    \n",
    "ridi_data_df = pd.DataFrame(ridi_data)\n",
    "ridi_data_df.to_csv(output_csv_path, encoding='utf-8-sig')"
   ]
  },
  {
   "cell_type": "code",
   "execution_count": null,
   "id": "65ae2024",
   "metadata": {},
   "outputs": [],
   "source": []
  }
 ],
 "metadata": {
  "kernelspec": {
   "display_name": "Python 3",
   "language": "python",
   "name": "python3"
  },
  "language_info": {
   "codemirror_mode": {
    "name": "ipython",
    "version": 3
   },
   "file_extension": ".py",
   "mimetype": "text/x-python",
   "name": "python",
   "nbconvert_exporter": "python",
   "pygments_lexer": "ipython3",
   "version": "3.7.10"
  },
  "toc": {
   "base_numbering": 1,
   "nav_menu": {},
   "number_sections": true,
   "sideBar": true,
   "skip_h1_title": false,
   "title_cell": "Table of Contents",
   "title_sidebar": "Contents",
   "toc_cell": false,
   "toc_position": {},
   "toc_section_display": true,
   "toc_window_display": false
  },
  "varInspector": {
   "cols": {
    "lenName": 16,
    "lenType": 16,
    "lenVar": 40
   },
   "kernels_config": {
    "python": {
     "delete_cmd_postfix": "",
     "delete_cmd_prefix": "del ",
     "library": "var_list.py",
     "varRefreshCmd": "print(var_dic_list())"
    },
    "r": {
     "delete_cmd_postfix": ") ",
     "delete_cmd_prefix": "rm(",
     "library": "var_list.r",
     "varRefreshCmd": "cat(var_dic_list()) "
    }
   },
   "types_to_exclude": [
    "module",
    "function",
    "builtin_function_or_method",
    "instance",
    "_Feature"
   ],
   "window_display": false
  }
 },
 "nbformat": 4,
 "nbformat_minor": 5
}
