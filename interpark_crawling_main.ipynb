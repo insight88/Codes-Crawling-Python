{
 "cells": [
  {
   "cell_type": "markdown",
   "id": "65169dce",
   "metadata": {},
   "source": [
    "# 패키지 선언"
   ]
  },
  {
   "cell_type": "code",
   "execution_count": 1,
   "id": "6ab02429",
   "metadata": {
    "ExecuteTime": {
     "end_time": "2021-06-17T00:08:01.503894Z",
     "start_time": "2021-06-17T00:08:00.032808Z"
    }
   },
   "outputs": [
    {
     "name": "stdout",
     "output_type": "stream",
     "text": [
      "Mozilla/5.0 (Windows NT 6.1; WOW64) AppleWebKit/537.36 (KHTML, like Gecko) Chrome/41.0.2227.0 Safari/537.36\n"
     ]
    }
   ],
   "source": [
    "# 패키지 불러오기\n",
    "\n",
    "import requests\n",
    "import bs4\n",
    "from bs4 import BeautifulSoup\n",
    "import os\n",
    "import random\n",
    "import hashlib\n",
    "import urllib.request\n",
    "import urllib\n",
    "from urllib.parse import urlparse, urlencode, parse_qs\n",
    "import pandas as pd\n",
    "import csv\n",
    "import re\n",
    "\n",
    "from datetime import datetime, timedelta\n",
    "from urllib import parse\n",
    "import time\n",
    "import requests\n",
    "import numpy as np\n",
    "import json\n",
    "from random import *\n",
    "from tqdm.notebook import tqdm\n",
    "\n",
    "from selenium import webdriver\n",
    "from selenium.webdriver.firefox.options import Options\n",
    "from fake_useragent import UserAgent\n",
    "\n",
    "from selenium.webdriver import ActionChains\n",
    "from selenium.webdriver.common.keys import Keys\n",
    "from selenium.webdriver.common.by import By\n",
    "from selenium.webdriver.support import expected_conditions as EC\n",
    "from selenium.webdriver.support.ui import WebDriverWait\n",
    "from selenium.common.exceptions import NoSuchElementException\n",
    "from selenium.common.exceptions import StaleElementReferenceException\n",
    "from selenium.common.exceptions import TimeoutException\n",
    "from selenium.common.exceptions import UnexpectedAlertPresentException\n",
    "\n",
    "ua = UserAgent()\n",
    "userAgent = ua.random\n",
    "print(userAgent)\n",
    "\n",
    "options = Options()\n",
    "options.add_argument(f\"user-agent={userAgent}\")\n",
    "options.add_argument('--headless')\n",
    "options.add_argument('--no-sandbox')\n",
    "options.add_argument('--disable-dev-shm-usage')\n",
    "options.add_argument('--ignore-certificate-errors')\n",
    "options.add_argument('--incognito')\n",
    "options.add_argument('--proxy-server=socks5://127.0.0.1:9050')\n",
    "\n",
    "executable_path = '/home/book_crawling/geckodriver' # chrome driver의 경로\n",
    "driver = webdriver.Firefox(executable_path=executable_path, options=options)"
   ]
  },
  {
   "cell_type": "markdown",
   "id": "74e1a6b7",
   "metadata": {},
   "source": [
    "# 인터파크 크롤링"
   ]
  },
  {
   "cell_type": "code",
   "execution_count": 2,
   "id": "4d062f36",
   "metadata": {
    "ExecuteTime": {
     "end_time": "2021-06-17T00:08:02.565220Z",
     "start_time": "2021-06-17T00:08:02.530748Z"
    }
   },
   "outputs": [],
   "source": [
    "# 인터파크 크롤링 함수\n",
    "\n",
    "def interpark_crawl(isbn):\n",
    "    \n",
    "    book = {'isbn' : isbn,\n",
    "            '제목' : '없음',\n",
    "            '저자' : '없음',\n",
    "            '역자' : '없음',\n",
    "            '출판일' : '없음',\n",
    "            '출판사' : '없음',\n",
    "            '별점' : '없음',\n",
    "            '리뷰' : '없음',\n",
    "            '카테고리' : '없음',\n",
    "            '책소개' : '없음',\n",
    "            '저자소개' : '없음',\n",
    "            '추천사' : '없음',\n",
    "            '목차' : '없음',\n",
    "            '책속으로' : '없음',\n",
    "            '출판사리뷰' : '없음',\n",
    "            '판매지수' : '없음'\n",
    "           }\n",
    "    \n",
    "    # isbn 검색, 첫번째 아이템 링크 열기\n",
    "    search_page = requests.get('http://bsearch.interpark.com/dsearch/book.jsp?sch=all&query=' + isbn)\n",
    "    list_soup = BeautifulSoup(search_page.text, 'html.parser')\n",
    "    try:\n",
    "        search_list = list_soup.find(class_='list_wrap')\n",
    "        top_item_image = search_list.find(class_='bimgWrap')\n",
    "        top_item_link = top_item_image.a['href']\n",
    "        driver.get(top_item_link)\n",
    "    except:\n",
    "        return book\n",
    "\n",
    "    # 상품 창에서 펼쳐보기 모두 클릭\n",
    "    txt_contents = driver.find_elements_by_class_name('detail_txtContent')\n",
    "    btns = driver.find_elements_by_class_name('bt_moreTxt')\n",
    "    for btn in btns:\n",
    "        try:\n",
    "            btn.click()\n",
    "        except:\n",
    "            pass\n",
    "\n",
    "    page_src = driver.page_source\n",
    "    soup = BeautifulSoup(page_src, 'html.parser')\n",
    "\n",
    "    # 제목\n",
    "    try:\n",
    "        title = soup.select_one('.titleWrap').h2.text\n",
    "    except:\n",
    "        title = '없음'\n",
    "    book['제목'] = title\n",
    "\n",
    "    # 저자, 역자\n",
    "    try:\n",
    "        book_info = soup.select_one('.bInfo_txt')\n",
    "        infos = book_info.find_all('li')\n",
    "\n",
    "        author = '없음'\n",
    "        translaor = '없음'\n",
    "        pub_date = '없음'\n",
    "        publisher = '없음'\n",
    "        for info in infos:\n",
    "            if '저 : ' in info.text:\n",
    "                author = info.text.replace('저 : ', '')\n",
    "            if '역 : ' in info.text:\n",
    "                translator = info.text.replace('역 : ', '')\n",
    "            if '20' in info.text:\n",
    "                pub_date = info.text.replace('발행 : ', '')\n",
    "            if '출판사' in info.text:\n",
    "                publisher = info.text.replace('출판사 : ', '')\n",
    "    except:\n",
    "        pass\n",
    "    book['저자'] = author\n",
    "    book['역자'] = translaor\n",
    "    book['출판일'] = pub_date\n",
    "    book['출판사'] = publisher\n",
    "\n",
    "    # 별점\n",
    "    try:\n",
    "        rating_el = soup.select_one('.bStarGradeBox')\n",
    "        rating = rating_el.text.replace('리뷰쓰기', '').strip()\n",
    "    except:\n",
    "        rating = '없음'\n",
    "    book['별점'] = rating\n",
    "    \n",
    "    # 리뷰\n",
    "    try:\n",
    "        review_el = soup.select_one('.detailTitle2').select_one('.total_count')\n",
    "        review = review_el.text.replace('(총 ', '').replace('건)', '')\n",
    "    except:\n",
    "        review = '없음'\n",
    "    book['리뷰'] = review\n",
    "    \n",
    "    # 판매지수\n",
    "    try:\n",
    "        sales_el = driver.find_element_by_class_name('saleIndexWrap')\n",
    "        sales_index = sales_el.text.replace('?', '').strip()\n",
    "    except:\n",
    "        sales_index = '없음'\n",
    "    book['판매지수'] = sales_index\n",
    "\n",
    "    # 카테고리\n",
    "    try:\n",
    "        field_el = soup.select_one('.fiedCell')\n",
    "        field = field_el.text.replace('Home\\n', '').replace('\\n', ' > ').replace('>  >', '').strip()\n",
    "    except:\n",
    "        field = '없음'\n",
    "    book['카테고리'] = field\n",
    "\n",
    "    # 책소개, 출판사리뷰, 추천사, 책속으로, 목차   \n",
    "    book_intro = '없음'\n",
    "    pub_review = '없음'\n",
    "    table = '없음'\n",
    "    recommend = '없음'\n",
    "    book_inside = '없음'\n",
    "    \n",
    "    try:\n",
    "        for content in txt_contents:\n",
    "            section = driver.execute_script(\"\"\"\n",
    "                return arguments[0].previousElementSibling\n",
    "            \"\"\", content).text\n",
    "            if '책소개' in section:\n",
    "                book['책소개'] = content.text.replace('\\n\\n접어보기', '').strip()\n",
    "            if '출판사' in section:\n",
    "                book['출판사리뷰'] = content.text.replace('\\n펼쳐보기', '').strip()\n",
    "            if '추천사' in section:\n",
    "                book['추천사'] = content.text.replace('\\n\\n접어보기', '').strip()\n",
    "            if '목차' in section:\n",
    "                book['목차'] = content.text\n",
    "            if '본문' in section:\n",
    "                book['책속으로'] = content.text.replace('\\n\\n접어보기', '').strip()\n",
    "    except:\n",
    "        pass       \n",
    "    \n",
    "    # 저자소개\n",
    "    try:\n",
    "        author_intro = []\n",
    "        writer_info = soup.select('.writerInfo')\n",
    "        for info in writer_info:\n",
    "            if '[저]' in info.select_one('.writerName').text:\n",
    "                author_name = info.select_one('.writerName').text.replace('[저]', '').strip() + '\\n'\n",
    "                info_text = info.p.text.replace('\\n', '').strip()\n",
    "                author_intro.append(author_name + info_text)\n",
    "    except:\n",
    "        author_intro = '없음'\n",
    "    book['저자소개'] = author_intro    \n",
    "        \n",
    "    return book"
   ]
  },
  {
   "cell_type": "markdown",
   "id": "21ab05eb",
   "metadata": {},
   "source": [
    "# csv 파일 불러오기 & 크롤링"
   ]
  },
  {
   "cell_type": "code",
   "execution_count": 3,
   "id": "c9f8552c",
   "metadata": {
    "ExecuteTime": {
     "end_time": "2021-06-17T00:08:05.235422Z",
     "start_time": "2021-06-17T00:08:03.752318Z"
    }
   },
   "outputs": [
    {
     "name": "stderr",
     "output_type": "stream",
     "text": [
      "/usr/local/lib/python3.7/dist-packages/numpy/lib/arraysetops.py:580: FutureWarning: elementwise comparison failed; returning scalar instead, but in the future will perform elementwise comparison\n",
      "  mask |= (ar1 == a)\n"
     ]
    },
    {
     "data": {
      "text/plain": [
       "2872189"
      ]
     },
     "execution_count": 3,
     "metadata": {},
     "output_type": "execute_result"
    }
   ],
   "source": [
    "book_specs = pd.read_csv('./book_spec_korean_isbns.csv', low_memory=False, index_col=0)\n",
    "isbns = book_specs['0'].tolist()\n",
    "len(isbns)"
   ]
  },
  {
   "cell_type": "code",
   "execution_count": 4,
   "id": "d9d7be9c",
   "metadata": {
    "ExecuteTime": {
     "end_time": "2021-06-03T00:13:14.673660Z",
     "start_time": "2021-06-03T00:13:10.660394Z"
    },
    "scrolled": true
   },
   "outputs": [
    {
     "data": {
      "text/plain": [
       "{'isbn': '9788946056909',\n",
       " '제목': '브라질 : 변화하는 사회와 새로운 과제들[양장]',\n",
       " '저자': '편박원복, 양은미',\n",
       " '역자': '없음',\n",
       " '출판일': '2014년 05월 30일',\n",
       " '출판사': '한울아카데미',\n",
       " '별점': '10',\n",
       " '리뷰': '0',\n",
       " '카테고리': '도서 > 역사와 문화 > 서양사 > 아메리카사 > 라틴아메리카사',\n",
       " '책소개': '없음',\n",
       " '저자소개': [],\n",
       " '추천사': '없음',\n",
       " '목차': '제1부 룰라-호우세피 변환기의 브라질의 미래 전망\\n제 1 장 | 브라질의 부상: 진실의 양면 _에두아르두 스즈클라르즈\\n제 2 장 | 브라질 사회 변화의 새로운 패턴 _마르시우 포쉬망\\n제 3 장 | 브라질의 새로운 농촌 풍경: 농촌 환경의 변화와 연속 _아릴송 파바레투\\n\\n제2부 세계 속의 브라질\\n제 4 장 | 브라질 대외정책의 기조와 변화 _이승용\\n제 5 장 | 브라질 ‘파워외교’의 개념화와 실용적 의미 _김원호\\n제 6 장 | 세계체제의 재설정과 브라질의 공간 _마르시우 포쉬망\\n제 7 장 | 브라질-카리브 지역의 아프리칸 디아스포라와 정체성 _임소라\\n\\n제3부 브라질의 새로운 과제들\\n제 8 장 | 브라질의 에너지 분야: 정책과 전망 _마우리시오 치옴노 토우마스캉\\n제 9 장 | 신발전주의와 심해유전 개발의 과제들 _지오르지우 호마누 슈치\\n제10장 | 브라질의 청정개발체제(CDM) 사업: 추진 성과와 과제 _권기수\\n제11장 | 라틴아메리카 기후변화정책 발전 동인 분석: 브라질과 멕시코 비교 _하상섭\\n제12장 | 아웃소싱의 법률문제: 브라질법에서의 논의를 중심으로 _조희문\\n접어보기',\n",
       " '책속으로': '산업생산이 폭증하지만 인프라 투자 부족과 고평가된 환율로 고통받고 있는 곳이 브라질이다. 기록적인 수준으로 사회적 통합이 진전되고 있지만 동시에 빈민과 흑인에게는 가혹한, 수많은 폭력이 공존하는 곳이 브라질이다. 기술을 통해 투명성을 확보하고 부패를 방지하고 있지만 동시에 한 주가 멀다 하고 부패 스캔들이 터지며, 사회에 대한 감시 문화가 취약하기 이를 데 없는 곳이 브라질이다.\\n(/ p.44)\\n\\n노예무역으로부터 흑인문화, 흑인인구에 이르기까지 브라질의 역사문화적 아프리카 연고는 도의적 의무이자 대아프리카 관계에서 브라질이 누릴 수 있는 비교우위로 받아들여졌다(Seibert, 2011). 특히 브라질은 아프리카지역에서 중국 및 인도와 진출경쟁을 벌이는 형국이다. 남남협력의 일환으로 적극적인 아프리카 정책을 편 룰라 대통령은 8년 임기 동안 아프리카를 12차례나 순방했다.\\n(/ p.144)\\n\\n성장촉진정책 속에는 신자유주의에 의해 버려지고 20여 년 이상 투자하지 않음으로 인해 열악해진 경제·사회 인프라 재건에 공적 재원을 집중시킨다는 전략적 기획이 엿보인다. 에너지 부문(전기에너지, 화석에너지, 풍력에너지)과 상하수도 부문 그리고 국민주택과 철도, 공항, 항만, 도로 등의 부문에서 국가적 통합을 강화하기 위한 대단위 국책 프로젝트들로부터 파생된 지방 및 지역의 중요한 파급효과로 드디어 경제의 수레바퀴가 움직이기 시작했다.\\n(/ p.194)\\n\\n현재 지구온난화 대책의 획기적인 수단으로 주목받고 있는 청정개발체제(CDM)는 브라질이 처음으로 설립을 주장했다. 이후 브라질은 개도국 중 가장 먼저 CDM 사업 추진을 위한 국가승인기구(Designated National Authority: DNA)를 설립하는 등 CDM 사업에 적극적이다. 이 같은 브라질 정부의 적극적인 노력의 결과, 현재 브라질은 중국, 인도와 더불어 세계 3대 CDM 프로젝트 추진국가로서 위상을 확고히 하고 있다.\\n(/ p.290)\\n접어보기',\n",
       " '출판사리뷰': '대국으로 부상한 브라질을 분석한다\\n\\n룰라 재임기 브라질은 눈부신 발전을 이루었다. 경제위기로 IMF 긴급구제금융을 지원받았던 국가가 몇 년 후 채무를 모두 갚고 100억 달러의 차관을 IMF에 빌려줄 정도로 경제 성장과 안정을 이룩했을 뿐만 아니라 신자유주의 기간 국민에게 가장 큰 고통을 준 빈익빈 부익부 문제에 적극적으로 개입하여 가족기금 등 포용적 정책을 펼쳐 빈곤층의 획기적 감소를 이루었다. 이 시기 브라질의 발전은 비단 경제와 사회분야에만 국한된 것이 아니었다. 메르코수르, 우나수르 등 브라질 중심의 국제기구를 강화하고 G20을 비롯한 각종 국제커뮤니티에서 리더로 도약했다.\\n룰라의 뒤를 이은 지우마 호우세피 정권은 새로운 도전에 직면해 있다. 집권 초기에 전임 대통령 룰라의 그늘에서 벗어나 독자적인 리더십을 보여야 했지만 그러지 못했고 그 이전에는 볼 수 없었던 새로운 사회 환경에도 직면해 있다. 룰라 정부 시절 저소득층에서 중산층으로 편입된 사람들은 월드컵을 치르는 데에 천문학적인 돈을 쏟아 붓기보다는 아직도 열악한 교육, 의료보건, 대중교통 등에 투자를 늘리라고 요구하고 있다. 이 책은 이러한 당면문제를 브라질이 어떻게 파악하고 어떤 해법을 모색하고 있는가를 담았다.\\n\\n\\n\\n브라질계 초국적기업의 성장 및 증가, 국제적 패권 강화, GDP 증가와 개인의 불평등문제 동시적 개선 등 긍정적 신호들과 함께 인프라 부족, 부패, 폭력 등 고질적 문제가 상존한다. 이 모든 변화들이 브라질 전역에서 나타나고 있지만 변화의 양상과 속도는 제각기 다르다. 따라서 각 부문과 지역의 양상을 발전인가 지연인가라는 이분법으로는 파악할 수 없으며 사회변화의 패턴도 기존과는 전혀 다르다. 사회계층구조도 복잡·다변화되어 더 이상 파벨라(favela, 브라질의 빈민촌) 거주자는 빈곤층이라는 공식으로 단순화할 수 없게 되었다. 이에 브라질 사회가 겪고 있는 근본적 변화는 이에 대한 새로운 정의와 분류가 필요하게 되었음을 제시한다.\\n\\n\\n\\n브라질 대외정책의 근간은 자주성(autonomy)다. 역사적으로는 독립 직후의 광활한 영토를 훼손 없이 지키기 위한 노력으로부터 출발하였고 그 이후에는 다른 강대국이나 국제적인 정세로부터 자국의 이익을 보호하기 위해 브라질은 꾸준히 다른 나라들과의 관계에서 독립성을 유지하려고 노력해왔다.\\n룰라 재임 기간 정점을 찍었던 브라질의 세계 위상 재정립 노력은 명실공히 ‘파워외교’라 칭할 수 있다. 2000년 이후 브라질의 세계 위상 재정립 노력은 메르코수르, 우나수르, 안전보장이사회에 상임이사국 진출을 위한 노력 등으로 나타났다. IBSA(인도·브라질·남아프리카공화국)를 통한 국제안보 전략과 3개 지역 거대 자유무역지대 창설 노력, 포르투갈어권 공동체를 통한 남남협력 등 다각적인 외교를 살펴볼 수 있다.\\n\\n\\n\\n성장과 함께 새롭게 부각된 문제들에 브라질이 어떻게 대처하고 있는가를 살펴보는 것도 필요하다. 먼저 브라질의 에너지 분야에 대한 전반적 고찰로부터 시작해 앞으로의 정책과 전망을 다루었다. 또한 브라질 파워외교의 중요한 동력으로 볼 수 있는 심해유전개발에 따르는 구체적인 과제들을 짚어보는 것도 필요하다고 보았다. 한편 브라질의 에너지 분야 성장은 필연적으로 환경문제에 대한 고민을 수반하게 된다. 이에 이 책에서는 브라질에서의 기후변화정책과 청정개발체제 사업 추진의 성과와 과제를 분석했다. 브라질에 최초로 제안한 청정재발체제는 기후변화 대응에 획기적인 사업으로 주목받고 있다. 브라질에 진출한 외국기업 대상 법률과 관련해서는, 특히 한국 기업이 진출해 활동하면서 직면한 문제들 중 아웃소싱의 법률문제를 담았다.\\n\\n국내 라틴아메리카 연구의 산실, 서울대학교 라틴아메리카연구소에서 라틴아메리카의 정치, 사회, 경제, 문화에 대한 깊이 있는 분석을 학계뿐 아니라 대중에게도 전달하고자 기획한 ‘라틴아메리카 지정학’ 시리즈 그 다섯 번째는 브라질이다. 대국 브라질에 걸맞은 정보와 연구가 부족한 현실에서 브라질 사회의 다양한 분야 현안과 배경 해결점을 모색한 연구를 선별해 [누에바 소시에다드(Nueva Sociedad)] 2010년과 2013년 포르투갈어 특집판과 상파울루 대학 발간 학술지에 실린 논문 등을 번역했고 국내 브라질 관련 논문 몇 편을 가려 실었다.\\n\\n[옮긴이 및 지은이]\\n심용주 서울대학교 국제대학원\\n홍욱헌 위덕대학교 다빈치 칼리지 공공행정학부\\n이승용 한국외국어대학교 포르투갈어과 교수\\n김원호 한국외국어대학교 국제지역대학원 중남미학과 교수\\n임소라 한국외국어대학교 포르투갈어과 교수\\n김정아 서울대학교 서어서문학과 재학\\n권기수 대외경제정책연구원(KIEP) 구미유라시아실 미주팀장\\n하상섭 한국외국어대학교 한중남미녹색융합센터 연구교수\\n조희문 한국외국어대학교 법학전문대학원(Law School) 교수',\n",
       " '판매지수': '없음'}"
      ]
     },
     "execution_count": 4,
     "metadata": {},
     "output_type": "execute_result"
    }
   ],
   "source": [
    "isbn = isbns[2340000]\n",
    "interpark_crawl(str(isbn))"
   ]
  },
  {
   "cell_type": "markdown",
   "id": "a6d34a05",
   "metadata": {},
   "source": [
    "# 대량 크롤링"
   ]
  },
  {
   "cell_type": "code",
   "execution_count": null,
   "id": "a9aedc29",
   "metadata": {
    "ExecuteTime": {
     "start_time": "2021-06-17T00:09:50.934Z"
    }
   },
   "outputs": [
    {
     "data": {
      "application/vnd.jupyter.widget-view+json": {
       "model_id": "e7e0b11e0fb5461a9f5e43b83c3338ef",
       "version_major": 2,
       "version_minor": 0
      },
      "text/plain": [
       "  0%|          | 0/10000 [00:00<?, ?it/s]"
      ]
     },
     "metadata": {},
     "output_type": "display_data"
    }
   ],
   "source": [
    "num = 530000\n",
    "results = []\n",
    "count_save = num - 10000\n",
    "for isbn in tqdm(isbns[num - 10000:num]):\n",
    "    time.sleep(2)\n",
    "    try:\n",
    "        book = interpark_crawl(str(isbn))\n",
    "        results.append(book)\n",
    "    except:\n",
    "        book = {'isbn' : str(isbn),\n",
    "                '제목' : '없음',\n",
    "                '저자' : '없음',\n",
    "                '역자' : '없음',\n",
    "                '출판일' : '없음',\n",
    "                '출판사' : '없음',\n",
    "                '별점' : '없음',\n",
    "                '리뷰' : '없음',\n",
    "                '카테고리' : '없음',\n",
    "                '책소개' : '없음',\n",
    "                '저자소개' : '없음',\n",
    "                '추천사' : '없음',\n",
    "                '목차' : '없음',\n",
    "                '책속으로' : '없음',\n",
    "                '출판사리뷰' : '없음',\n",
    "                '판매지수' : '없음'\n",
    "               }\n",
    "        results.append(book)\n",
    "\n",
    "    count_save += 1\n",
    "    \n",
    "    if count_save % 1000 == 0:\n",
    "        file_name = f'interpark_{count_save}_2,870,000.csv'\n",
    "        results_df = pd.DataFrame(results)\n",
    "        results_df.to_csv('./crawled_this_week/' + file_name, encoding='utf-8-sig')\n",
    "        results = []\n",
    "        print(f'saving {count_save}th results to {file_name}')\n",
    "        \n",
    "print('Crawling Completed')"
   ]
  },
  {
   "cell_type": "code",
   "execution_count": null,
   "id": "caaa6166",
   "metadata": {},
   "outputs": [],
   "source": []
  }
 ],
 "metadata": {
  "hide_input": false,
  "kernelspec": {
   "display_name": "Python 3",
   "language": "python",
   "name": "python3"
  },
  "language_info": {
   "codemirror_mode": {
    "name": "ipython",
    "version": 3
   },
   "file_extension": ".py",
   "mimetype": "text/x-python",
   "name": "python",
   "nbconvert_exporter": "python",
   "pygments_lexer": "ipython3",
   "version": "3.7.10"
  },
  "toc": {
   "base_numbering": 1,
   "nav_menu": {},
   "number_sections": true,
   "sideBar": true,
   "skip_h1_title": false,
   "title_cell": "Table of Contents",
   "title_sidebar": "Contents",
   "toc_cell": false,
   "toc_position": {},
   "toc_section_display": true,
   "toc_window_display": false
  },
  "varInspector": {
   "cols": {
    "lenName": 16,
    "lenType": 16,
    "lenVar": 40
   },
   "kernels_config": {
    "python": {
     "delete_cmd_postfix": "",
     "delete_cmd_prefix": "del ",
     "library": "var_list.py",
     "varRefreshCmd": "print(var_dic_list())"
    },
    "r": {
     "delete_cmd_postfix": ") ",
     "delete_cmd_prefix": "rm(",
     "library": "var_list.r",
     "varRefreshCmd": "cat(var_dic_list()) "
    }
   },
   "types_to_exclude": [
    "module",
    "function",
    "builtin_function_or_method",
    "instance",
    "_Feature"
   ],
   "window_display": false
  }
 },
 "nbformat": 4,
 "nbformat_minor": 5
}
